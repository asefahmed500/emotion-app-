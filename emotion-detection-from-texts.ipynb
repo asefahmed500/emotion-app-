{
 "cells": [
  {
   "cell_type": "markdown",
   "id": "50ae2527",
   "metadata": {
    "papermill": {
     "duration": 0.016069,
     "end_time": "2023-06-24T00:33:53.301756",
     "exception": false,
     "start_time": "2023-06-24T00:33:53.285687",
     "status": "completed"
    },
    "tags": []
   },
   "source": [
    "## Language Detection from Text\n",
    "(Machine-Learning Text Classification Model)\n",
    "> *Workflow:*\n",
    "> * Load necessary **packages and libraries**.\n",
    "> * **Data Agumention and Organization:** Use data from multiple sources and combine them with proper organisation to increase size of data. Split data into train and test sets.\n",
    "> * **EDA & Data Visualization:** Analyze, Understand and Explore the Data.\n",
    "> * **Preprocessing:**\n",
    "    * **(NLP -> Text Cleaning + Text Vectorization)**\n",
    "        * **Text cleaning:** Remove emojis, Convert Emoticons to Words, Apply Text Contractions, Correct Abbreviations, Remove Mentions and URLs, Remove Special Characters, Punctuations, HTML tags, Escape Characters and Extra Spaces, Apply Spell Check, Lemmatize/Stem texts.\n",
    "        * **Text Vectorization:** Convert text data to numerical vectors. (I wil use **Tfidf** vectorization technique, but other methods like Bag of Words or Word embedding can also be used.)\n",
    "    * **Label Encoding:** Machine Learning models can not understand text labelled categories hence we must convert text labels to numerical values before feeding our data to a ML model.\n",
    "> * **Training:** Feed processed data to various **Machine Learning/Deep Learning models** and **Test** each model's accuracy using Test data (created during train-test-split).\n",
    "> * **Create Pipeline:** Choose the **best performing model** and create a **model pipeline**.\n",
    "> * **Ground Testing:** Use the trained model to predict language from user inputs."
   ]
  },
  {
   "cell_type": "markdown",
   "id": "2bf33365",
   "metadata": {
    "papermill": {
     "duration": 0.015583,
     "end_time": "2023-06-24T00:33:53.333815",
     "exception": false,
     "start_time": "2023-06-24T00:33:53.318232",
     "status": "completed"
    },
    "tags": []
   },
   "source": [
    "## Load Dependencies\n",
    "(I prefer loading all the necessary files and libraries at the beginning, makes notebook cleaner!)"
   ]
  },
  {
   "cell_type": "code",
   "execution_count": 17,
   "id": "385bb57c",
   "metadata": {
    "execution": {
     "iopub.execute_input": "2023-06-24T00:33:53.367734Z",
     "iopub.status.busy": "2023-06-24T00:33:53.367099Z",
     "iopub.status.idle": "2023-06-24T00:34:36.819260Z",
     "shell.execute_reply": "2023-06-24T00:34:36.818090Z"
    },
    "papermill": {
     "duration": 43.473059,
     "end_time": "2023-06-24T00:34:36.822543",
     "exception": false,
     "start_time": "2023-06-24T00:33:53.349484",
     "status": "completed"
    },
    "tags": []
   },
   "outputs": [],
   "source": [
    "# # install extra packages (not included in kaggle by default)\n",
    "# !pip install nltk # provides text cleaning and normalizing function\n",
    "# !pip install contractions # should't -> should not\n",
    "# !pip install pyspellchecker  # python spell checker"
   ]
  },
  {
   "cell_type": "code",
   "execution_count": 18,
   "id": "3c3031d6",
   "metadata": {},
   "outputs": [],
   "source": [
    "from sklearn.naive_bayes import MultinomialNB\n",
    "from sklearn.linear_model import LogisticRegression\n",
    "from sklearn.svm import LinearSVC, SVC\n",
    "from sklearn.neighbors import KNeighborsClassifier\n",
    "from sklearn.tree import DecisionTreeClassifier\n",
    "from sklearn.ensemble import RandomForestClassifier\n",
    "from sklearn.ensemble import GradientBoostingClassifier\n",
    "from sklearn.ensemble import StackingClassifier\n",
    "from sklearn.pipeline import Pipeline"
   ]
  },
  {
   "cell_type": "code",
   "execution_count": 19,
   "id": "a3513638",
   "metadata": {},
   "outputs": [],
   "source": [
    "import os\n",
    "import pickle\n",
    "import numpy as np\n",
    "import pandas as pd\n",
    "import matplotlib.pyplot as plt\n",
    "import seaborn as sns\n",
    "from tqdm.notebook import tqdm\n",
    "import warnings\n",
    "warnings.filterwarnings(\"ignore\")"
   ]
  },
  {
   "cell_type": "code",
   "execution_count": 20,
   "id": "ec6c02d2",
   "metadata": {},
   "outputs": [],
   "source": [
    "import re\n",
    "\n",
    "from sklearn.model_selection import train_test_split\n",
    "from sklearn.preprocessing import LabelEncoder\n",
    "from sklearn.feature_extraction.text import TfidfVectorizer"
   ]
  },
  {
   "cell_type": "code",
   "execution_count": 21,
   "id": "254c0721",
   "metadata": {},
   "outputs": [],
   "source": [
    "# pip install contractions"
   ]
  },
  {
   "cell_type": "code",
   "execution_count": 22,
   "id": "d84194f4",
   "metadata": {},
   "outputs": [],
   "source": [
    "# pip install pyspellchecker"
   ]
  },
  {
   "cell_type": "code",
   "execution_count": 23,
   "id": "9a40b9c3",
   "metadata": {},
   "outputs": [],
   "source": [
    "import contractions\n"
   ]
  },
  {
   "cell_type": "code",
   "execution_count": 24,
   "id": "10c3e34d",
   "metadata": {},
   "outputs": [],
   "source": [
    "from spellchecker import SpellChecker"
   ]
  },
  {
   "cell_type": "code",
   "execution_count": 25,
   "id": "004849fe",
   "metadata": {
    "_cell_guid": "b1076dfc-b9ad-4769-8c92-a6c4dae69d19",
    "_uuid": "8f2839f25d086af736a60e9eeb907d3b93b6e0e5",
    "execution": {
     "iopub.execute_input": "2023-06-24T00:34:36.860470Z",
     "iopub.status.busy": "2023-06-24T00:34:36.860056Z",
     "iopub.status.idle": "2023-06-24T00:34:45.146787Z",
     "shell.execute_reply": "2023-06-24T00:34:45.145270Z"
    },
    "papermill": {
     "duration": 8.309904,
     "end_time": "2023-06-24T00:34:45.150565",
     "exception": false,
     "start_time": "2023-06-24T00:34:36.840661",
     "status": "completed"
    },
    "tags": []
   },
   "outputs": [
    {
     "name": "stderr",
     "output_type": "stream",
     "text": [
      "[nltk_data] Downloading package stopwords to\n",
      "[nltk_data]     C:\\Users\\RA\\AppData\\Roaming\\nltk_data...\n",
      "[nltk_data]   Package stopwords is already up-to-date!\n",
      "[nltk_data] Downloading package wordnet to\n",
      "[nltk_data]     C:\\Users\\RA\\AppData\\Roaming\\nltk_data...\n",
      "[nltk_data]   Package wordnet is already up-to-date!\n",
      "A subdirectory or file nltk_data already exists.\n",
      "[nltk_data] Downloading package wordnet to\n",
      "[nltk_data]     c:\\Users\\RA\\Desktop\\emotion_detection/nltk_data...\n",
      "[nltk_data]   Package wordnet is already up-to-date!\n",
      "[nltk_data] Downloading package omw-1.4 to\n",
      "[nltk_data]     c:\\Users\\RA\\Desktop\\emotion_detection/nltk_data/...\n",
      "[nltk_data]   Package omw-1.4 is already up-to-date!\n",
      "'unzip' is not recognized as an internal or external command,\n",
      "operable program or batch file.\n",
      "'unzip' is not recognized as an internal or external command,\n",
      "operable program or batch file.\n"
     ]
    }
   ],
   "source": [
    "# Basic Libraries\n",
    "import os\n",
    "import pickle\n",
    "import numpy as np\n",
    "import pandas as pd\n",
    "import matplotlib.pyplot as plt\n",
    "import seaborn as sns\n",
    "from tqdm.notebook import tqdm\n",
    "import warnings\n",
    "warnings.filterwarnings(\"ignore\")\n",
    "\n",
    "# libraries for preprocessing\n",
    "import re\n",
    "import contractions\n",
    "from spellchecker import SpellChecker\n",
    "from sklearn.model_selection import train_test_split\n",
    "from sklearn.preprocessing import LabelEncoder\n",
    "from sklearn.feature_extraction.text import TfidfVectorizer\n",
    "\n",
    "import nltk\n",
    "nltk.download('stopwords')\n",
    "nltk.download('wordnet')\n",
    "from nltk.corpus import stopwords\n",
    "from nltk.stem import WordNetLemmatizer\n",
    "import re\n",
    "from nltk.stem import WordNetLemmatizer\n",
    "\n",
    "# initiating lemmatizer(kaggle specific):\n",
    "# Define a install path for nltk\n",
    "if os.environ.get('KAGGLE_KERNEL_RUN_TYPE', ''):\n",
    "    nltk_path='/kaggle/working'\n",
    "else:\n",
    "    nltk_path=\"{}\".format(os.getcwd())\n",
    "\n",
    "isnltk_installed = os.path.isdir(f'{nltk_path}/nltk_data/corpora/wordnet')\n",
    "\n",
    "# Install relevent libraries to nltk path\n",
    "if isnltk_installed:\n",
    "    nltk.data.path.append(f'{nltk_path}/nltk_data')\n",
    "else:\n",
    "    # Make directort name 'nlrk_data' in current work directory '/kaggle/working/'\n",
    "    !mkdir nltk_data\n",
    "    # Download neccessaty package as .zip file ('corpora' directory are automatically created)\n",
    "    nltk.download('wordnet', f\"{nltk_path}/nltk_data\")\n",
    "    nltk.download('omw-1.4', f\"{nltk_path}/nltk_data/\")\n",
    "    # Unzip .zip file in folder '/kaggle/working/nltk_data/corpora'\n",
    "    !unzip /kaggle/working/nltk_data/corpora/wordnet.zip -d /kaggle/working/nltk_data/corpora\n",
    "    !unzip /kaggle/working/nltk_data/corpora/omw-1.4.zip -d /kaggle/working/nltk_data/corpora\n",
    "    # Add custom location nltk file data path\n",
    "    nltk.data.path.append(f'{nltk_path}/nltk_data')\n",
    "\n",
    "# libraries for ML\n",
    "from sklearn.naive_bayes import MultinomialNB\n",
    "from sklearn.linear_model import LogisticRegression\n",
    "from sklearn.svm import LinearSVC, SVC\n",
    "from sklearn.neighbors import KNeighborsClassifier\n",
    "from sklearn.tree import DecisionTreeClassifier\n",
    "from sklearn.ensemble import RandomForestClassifier\n",
    "from sklearn.ensemble import GradientBoostingClassifier\n",
    "from sklearn.ensemble import StackingClassifier\n",
    "from sklearn.pipeline import Pipeline"
   ]
  },
  {
   "cell_type": "markdown",
   "id": "e1ee877d",
   "metadata": {
    "papermill": {
     "duration": 0.019075,
     "end_time": "2023-06-24T00:34:45.193596",
     "exception": false,
     "start_time": "2023-06-24T00:34:45.174521",
     "status": "completed"
    },
    "tags": []
   },
   "source": [
    "## Data Augmentation and Organization\n",
    "(Use data from multiple sources and combine them with proper organisation to increase size of data)"
   ]
  },
  {
   "cell_type": "code",
   "execution_count": 26,
   "id": "417c5d32",
   "metadata": {},
   "outputs": [],
   "source": [
    "# This Python 3 environment comes with many helpful analytics libraries installed\n",
    "# It is defined by the kaggle/python Docker image: https://github.com/kaggle/docker-python\n",
    "# For example, here's several helpful packages to load\n",
    "\n",
    "import numpy as np # linear algebra\n",
    "import pandas as pd # data processing, CSV file I/O (e.g. pd.read_csv)\n",
    "\n",
    "# Input data files are available in the read-only \"../input/\" directory\n",
    "# For example, running this (by clicking run or pressing Shift+Enter) will list all files under the input directory\n",
    "\n",
    "import os\n",
    "for dirname, _, filenames in os.walk('/kaggle/input'):\n",
    "    for filename in filenames:\n",
    "        print(os.path.join(dirname, filename))\n",
    "\n",
    "# You can write up to 20GB to the current directory (/kaggle/working/) that gets preserved as output when you create a version using \"Save & Run All\" \n",
    "# You can also write temporary files to /kaggle/temp/, but they won't be saved outside of the current session"
   ]
  },
  {
   "cell_type": "code",
   "execution_count": 27,
   "id": "6a3bca49",
   "metadata": {
    "execution": {
     "iopub.execute_input": "2023-06-24T00:34:45.234972Z",
     "iopub.status.busy": "2023-06-24T00:34:45.234504Z",
     "iopub.status.idle": "2023-06-24T00:34:45.435900Z",
     "shell.execute_reply": "2023-06-24T00:34:45.434601Z"
    },
    "papermill": {
     "duration": 0.225,
     "end_time": "2023-06-24T00:34:45.438390",
     "exception": false,
     "start_time": "2023-06-24T00:34:45.213390",
     "status": "completed"
    },
    "tags": []
   },
   "outputs": [
    {
     "data": {
      "text/html": [
       "<div>\n",
       "<style scoped>\n",
       "    .dataframe tbody tr th:only-of-type {\n",
       "        vertical-align: middle;\n",
       "    }\n",
       "\n",
       "    .dataframe tbody tr th {\n",
       "        vertical-align: top;\n",
       "    }\n",
       "\n",
       "    .dataframe thead th {\n",
       "        text-align: right;\n",
       "    }\n",
       "</style>\n",
       "<table border=\"1\" class=\"dataframe\">\n",
       "  <thead>\n",
       "    <tr style=\"text-align: right;\">\n",
       "      <th></th>\n",
       "      <th>text</th>\n",
       "      <th>emotion</th>\n",
       "    </tr>\n",
       "  </thead>\n",
       "  <tbody>\n",
       "    <tr>\n",
       "      <th>0</th>\n",
       "      <td>im feeling rather rotten so im not very ambiti...</td>\n",
       "      <td>sadness</td>\n",
       "    </tr>\n",
       "    <tr>\n",
       "      <th>1</th>\n",
       "      <td>im updating my blog because i feel shitty</td>\n",
       "      <td>sadness</td>\n",
       "    </tr>\n",
       "    <tr>\n",
       "      <th>2</th>\n",
       "      <td>i never make her separate from me because i do...</td>\n",
       "      <td>sadness</td>\n",
       "    </tr>\n",
       "    <tr>\n",
       "      <th>3</th>\n",
       "      <td>i left with my bouquet of red and yellow tulip...</td>\n",
       "      <td>joy</td>\n",
       "    </tr>\n",
       "    <tr>\n",
       "      <th>4</th>\n",
       "      <td>i was feeling a little vain when i did this one</td>\n",
       "      <td>sadness</td>\n",
       "    </tr>\n",
       "    <tr>\n",
       "      <th>...</th>\n",
       "      <td>...</td>\n",
       "      <td>...</td>\n",
       "    </tr>\n",
       "    <tr>\n",
       "      <th>15995</th>\n",
       "      <td>i just had a very brief time in the beanbag an...</td>\n",
       "      <td>sadness</td>\n",
       "    </tr>\n",
       "    <tr>\n",
       "      <th>15996</th>\n",
       "      <td>i am now turning and i feel pathetic that i am...</td>\n",
       "      <td>sadness</td>\n",
       "    </tr>\n",
       "    <tr>\n",
       "      <th>15997</th>\n",
       "      <td>i feel strong and good overall</td>\n",
       "      <td>joy</td>\n",
       "    </tr>\n",
       "    <tr>\n",
       "      <th>15998</th>\n",
       "      <td>i feel like this was such a rude comment and i...</td>\n",
       "      <td>anger</td>\n",
       "    </tr>\n",
       "    <tr>\n",
       "      <th>15999</th>\n",
       "      <td>i know a lot but i feel so stupid because i ca...</td>\n",
       "      <td>sadness</td>\n",
       "    </tr>\n",
       "  </tbody>\n",
       "</table>\n",
       "<p>20000 rows × 2 columns</p>\n",
       "</div>"
      ],
      "text/plain": [
       "                                                    text  emotion\n",
       "0      im feeling rather rotten so im not very ambiti...  sadness\n",
       "1              im updating my blog because i feel shitty  sadness\n",
       "2      i never make her separate from me because i do...  sadness\n",
       "3      i left with my bouquet of red and yellow tulip...      joy\n",
       "4        i was feeling a little vain when i did this one  sadness\n",
       "...                                                  ...      ...\n",
       "15995  i just had a very brief time in the beanbag an...  sadness\n",
       "15996  i am now turning and i feel pathetic that i am...  sadness\n",
       "15997                     i feel strong and good overall      joy\n",
       "15998  i feel like this was such a rude comment and i...    anger\n",
       "15999  i know a lot but i feel so stupid because i ca...  sadness\n",
       "\n",
       "[20000 rows x 2 columns]"
      ]
     },
     "metadata": {},
     "output_type": "display_data"
    }
   ],
   "source": [
    "# source 1:\n",
    "s1_train = pd.read_csv('train.txt', names=['text','emotion'], delimiter=';')\n",
    "s1_val = pd.read_csv('val.txt', names=['text','emotion'], delimiter=';')\n",
    "s1_test = pd.read_csv('test.txt', names=['text','emotion'], delimiter=';')\n",
    "data1 = pd.concat((s1_train,s1_val,s1_test), axis=0)\n",
    "display(data1)"
   ]
  },
  {
   "cell_type": "code",
   "execution_count": 28,
   "id": "7081491d",
   "metadata": {
    "execution": {
     "iopub.execute_input": "2023-06-24T00:34:45.481492Z",
     "iopub.status.busy": "2023-06-24T00:34:45.480822Z",
     "iopub.status.idle": "2023-06-24T00:34:45.502380Z",
     "shell.execute_reply": "2023-06-24T00:34:45.500584Z"
    },
    "papermill": {
     "duration": 0.046346,
     "end_time": "2023-06-24T00:34:45.504994",
     "exception": false,
     "start_time": "2023-06-24T00:34:45.458648",
     "status": "completed"
    },
    "tags": []
   },
   "outputs": [
    {
     "name": "stdout",
     "output_type": "stream",
     "text": [
      "emotion\n",
      "joy         6761\n",
      "sadness     5797\n",
      "anger       2709\n",
      "fear        2373\n",
      "love        1641\n",
      "surprise     719\n",
      "Name: count, dtype: int64\n",
      "Number of classes:  6\n"
     ]
    }
   ],
   "source": [
    "# classes and value counts:\n",
    "print(data1.emotion.value_counts())\n",
    "print(\"Number of classes: \",len(data1.emotion.value_counts()))"
   ]
  },
  {
   "cell_type": "code",
   "execution_count": 29,
   "id": "11006606",
   "metadata": {
    "execution": {
     "iopub.execute_input": "2023-06-24T00:34:45.547208Z",
     "iopub.status.busy": "2023-06-24T00:34:45.546795Z",
     "iopub.status.idle": "2023-06-24T00:34:45.558851Z",
     "shell.execute_reply": "2023-06-24T00:34:45.557070Z"
    },
    "papermill": {
     "duration": 0.036131,
     "end_time": "2023-06-24T00:34:45.561372",
     "exception": false,
     "start_time": "2023-06-24T00:34:45.525241",
     "status": "completed"
    },
    "tags": []
   },
   "outputs": [
    {
     "name": "stdout",
     "output_type": "stream",
     "text": [
      "[ 1.  0.  0.  0.  0.  0.  0.] During the period of falling in love, each time that we met and especially when we had not met for a long time.\n",
      "\n",
      "[ 0.  1.  0.  0.  0.  0.  0.] When I was involved in a traffic accident.\n",
      "\n",
      "[ 0.  0.  1.  0.  0.  0.  0.] When I was driving home after  several days of hard work, there was a motorist ahead of me who was driving at 50 km/hour and refused, despite his low speeed to let me overtake.\n",
      "\n",
      "[ 0.  0.  0.  1.  0.  0.  0.] When I lost the person who meant the most to me.\n",
      "\n",
      "[ 0.  0.  0.  0.  1.  0.  0.] The time I knocked a deer down - the sight of the animal's injuries and helplessness.  The realization that the animal was so badly hurt that it had to be put down, and when the animal screamed at the moment of death.\n",
      "\n"
     ]
    }
   ],
   "source": [
    "# source 2\n",
    "with open('text.txt') as f:\n",
    "    i=0\n",
    "    # display first 5 lines of the raw data\n",
    "    for line in f:\n",
    "        if(i==5): break;\n",
    "        print(line)\n",
    "        i+=1"
   ]
  },
  {
   "cell_type": "code",
   "execution_count": 30,
   "id": "31f97a73",
   "metadata": {
    "execution": {
     "iopub.execute_input": "2023-06-24T00:34:45.603684Z",
     "iopub.status.busy": "2023-06-24T00:34:45.602511Z",
     "iopub.status.idle": "2023-06-24T00:34:45.676899Z",
     "shell.execute_reply": "2023-06-24T00:34:45.675709Z"
    },
    "papermill": {
     "duration": 0.098203,
     "end_time": "2023-06-24T00:34:45.679454",
     "exception": false,
     "start_time": "2023-06-24T00:34:45.581251",
     "status": "completed"
    },
    "tags": []
   },
   "outputs": [
    {
     "data": {
      "text/html": [
       "<div>\n",
       "<style scoped>\n",
       "    .dataframe tbody tr th:only-of-type {\n",
       "        vertical-align: middle;\n",
       "    }\n",
       "\n",
       "    .dataframe tbody tr th {\n",
       "        vertical-align: top;\n",
       "    }\n",
       "\n",
       "    .dataframe thead th {\n",
       "        text-align: right;\n",
       "    }\n",
       "</style>\n",
       "<table border=\"1\" class=\"dataframe\">\n",
       "  <thead>\n",
       "    <tr style=\"text-align: right;\">\n",
       "      <th></th>\n",
       "      <th>text</th>\n",
       "      <th>emotion</th>\n",
       "    </tr>\n",
       "  </thead>\n",
       "  <tbody>\n",
       "    <tr>\n",
       "      <th>0</th>\n",
       "      <td>During the period of falling in love, each tim...</td>\n",
       "      <td>joy</td>\n",
       "    </tr>\n",
       "    <tr>\n",
       "      <th>1</th>\n",
       "      <td>When I was involved in a traffic accident.</td>\n",
       "      <td>fear</td>\n",
       "    </tr>\n",
       "    <tr>\n",
       "      <th>2</th>\n",
       "      <td>When I was driving home after  several days of...</td>\n",
       "      <td>anger</td>\n",
       "    </tr>\n",
       "    <tr>\n",
       "      <th>3</th>\n",
       "      <td>When I lost the person who meant the most to me.</td>\n",
       "      <td>sadness</td>\n",
       "    </tr>\n",
       "    <tr>\n",
       "      <th>4</th>\n",
       "      <td>The time I knocked a deer down - the sight of ...</td>\n",
       "      <td>disgust</td>\n",
       "    </tr>\n",
       "    <tr>\n",
       "      <th>...</th>\n",
       "      <td>...</td>\n",
       "      <td>...</td>\n",
       "    </tr>\n",
       "    <tr>\n",
       "      <th>7475</th>\n",
       "      <td>Two years back someone invited me to be the tu...</td>\n",
       "      <td>anger</td>\n",
       "    </tr>\n",
       "    <tr>\n",
       "      <th>7476</th>\n",
       "      <td>I had taken the responsibility to do something...</td>\n",
       "      <td>sadness</td>\n",
       "    </tr>\n",
       "    <tr>\n",
       "      <th>7477</th>\n",
       "      <td>I was at home and I heard a loud sound of spit...</td>\n",
       "      <td>disgust</td>\n",
       "    </tr>\n",
       "    <tr>\n",
       "      <th>7478</th>\n",
       "      <td>I did not do the homework that the teacher had...</td>\n",
       "      <td>shame</td>\n",
       "    </tr>\n",
       "    <tr>\n",
       "      <th>7479</th>\n",
       "      <td>I had shouted at my younger brother and he was...</td>\n",
       "      <td>guilt</td>\n",
       "    </tr>\n",
       "  </tbody>\n",
       "</table>\n",
       "<p>7480 rows × 2 columns</p>\n",
       "</div>"
      ],
      "text/plain": [
       "                                                   text  emotion\n",
       "0     During the period of falling in love, each tim...      joy\n",
       "1            When I was involved in a traffic accident.     fear\n",
       "2     When I was driving home after  several days of...    anger\n",
       "3      When I lost the person who meant the most to me.  sadness\n",
       "4     The time I knocked a deer down - the sight of ...  disgust\n",
       "...                                                 ...      ...\n",
       "7475  Two years back someone invited me to be the tu...    anger\n",
       "7476  I had taken the responsibility to do something...  sadness\n",
       "7477  I was at home and I heard a loud sound of spit...  disgust\n",
       "7478  I did not do the homework that the teacher had...    shame\n",
       "7479  I had shouted at my younger brother and he was...    guilt\n",
       "\n",
       "[7480 rows x 2 columns]"
      ]
     },
     "execution_count": 30,
     "metadata": {},
     "output_type": "execute_result"
    }
   ],
   "source": [
    "# organize data, create dataset:\n",
    "text = []\n",
    "labs = []\n",
    "emotion = []\n",
    "label_map = [\"joy\", 'fear', \"anger\", \"sadness\", \"disgust\", \"shame\", \"guilt\"]   # information provided with the dataset\n",
    "with open('text.txt','r') as f:\n",
    "    for line in f:\n",
    "        line = line.strip()\n",
    "        label = line[1:line.find(']')].strip().split()\n",
    "        sent = line[line.find(']')+1:].strip()\n",
    "        text.append(sent)\n",
    "        labs.append(label)\n",
    "        \n",
    "        \n",
    "for i in range(len(labs)):\n",
    "    for j in range(len(labs[0])):\n",
    "        if labs[i][j]=='1.':\n",
    "            emotion.append(label_map[j])\n",
    "            \n",
    "            \n",
    "data2 = pd.concat((pd.Series(text),pd.Series(emotion)), axis=1, keys=['text','emotion'])\n",
    "data2"
   ]
  },
  {
   "cell_type": "code",
   "execution_count": 31,
   "id": "0e17b6a5",
   "metadata": {
    "execution": {
     "iopub.execute_input": "2023-06-24T00:34:45.722566Z",
     "iopub.status.busy": "2023-06-24T00:34:45.721835Z",
     "iopub.status.idle": "2023-06-24T00:34:45.732589Z",
     "shell.execute_reply": "2023-06-24T00:34:45.731337Z"
    },
    "papermill": {
     "duration": 0.035326,
     "end_time": "2023-06-24T00:34:45.735053",
     "exception": false,
     "start_time": "2023-06-24T00:34:45.699727",
     "status": "completed"
    },
    "tags": []
   },
   "outputs": [
    {
     "name": "stdout",
     "output_type": "stream",
     "text": [
      "emotion\n",
      "joy        1084\n",
      "anger      1080\n",
      "sadness    1079\n",
      "fear       1078\n",
      "disgust    1057\n",
      "guilt      1057\n",
      "shame      1045\n",
      "Name: count, dtype: int64\n",
      "Number of classes:  7\n"
     ]
    }
   ],
   "source": [
    "# classes and value counts:\n",
    "print(data2.emotion.value_counts())\n",
    "print(\"Number of classes: \",len(data2.emotion.value_counts()))"
   ]
  },
  {
   "cell_type": "code",
   "execution_count": 32,
   "id": "e086fec3",
   "metadata": {
    "execution": {
     "iopub.execute_input": "2023-06-24T00:34:45.779468Z",
     "iopub.status.busy": "2023-06-24T00:34:45.778743Z",
     "iopub.status.idle": "2023-06-24T00:34:45.794928Z",
     "shell.execute_reply": "2023-06-24T00:34:45.794012Z"
    },
    "papermill": {
     "duration": 0.040901,
     "end_time": "2023-06-24T00:34:45.797213",
     "exception": false,
     "start_time": "2023-06-24T00:34:45.756312",
     "status": "completed"
    },
    "tags": []
   },
   "outputs": [
    {
     "data": {
      "text/html": [
       "<div>\n",
       "<style scoped>\n",
       "    .dataframe tbody tr th:only-of-type {\n",
       "        vertical-align: middle;\n",
       "    }\n",
       "\n",
       "    .dataframe tbody tr th {\n",
       "        vertical-align: top;\n",
       "    }\n",
       "\n",
       "    .dataframe thead th {\n",
       "        text-align: right;\n",
       "    }\n",
       "</style>\n",
       "<table border=\"1\" class=\"dataframe\">\n",
       "  <thead>\n",
       "    <tr style=\"text-align: right;\">\n",
       "      <th></th>\n",
       "      <th>text</th>\n",
       "      <th>emotion</th>\n",
       "    </tr>\n",
       "  </thead>\n",
       "  <tbody>\n",
       "    <tr>\n",
       "      <th>0</th>\n",
       "      <td>im feeling rather rotten so im not very ambiti...</td>\n",
       "      <td>sadness</td>\n",
       "    </tr>\n",
       "    <tr>\n",
       "      <th>1</th>\n",
       "      <td>im updating my blog because i feel shitty</td>\n",
       "      <td>sadness</td>\n",
       "    </tr>\n",
       "    <tr>\n",
       "      <th>2</th>\n",
       "      <td>i never make her separate from me because i do...</td>\n",
       "      <td>sadness</td>\n",
       "    </tr>\n",
       "    <tr>\n",
       "      <th>3</th>\n",
       "      <td>i left with my bouquet of red and yellow tulip...</td>\n",
       "      <td>joy</td>\n",
       "    </tr>\n",
       "    <tr>\n",
       "      <th>4</th>\n",
       "      <td>i was feeling a little vain when i did this one</td>\n",
       "      <td>sadness</td>\n",
       "    </tr>\n",
       "    <tr>\n",
       "      <th>...</th>\n",
       "      <td>...</td>\n",
       "      <td>...</td>\n",
       "    </tr>\n",
       "    <tr>\n",
       "      <th>7475</th>\n",
       "      <td>Two years back someone invited me to be the tu...</td>\n",
       "      <td>anger</td>\n",
       "    </tr>\n",
       "    <tr>\n",
       "      <th>7476</th>\n",
       "      <td>I had taken the responsibility to do something...</td>\n",
       "      <td>sadness</td>\n",
       "    </tr>\n",
       "    <tr>\n",
       "      <th>7477</th>\n",
       "      <td>I was at home and I heard a loud sound of spit...</td>\n",
       "      <td>disgust</td>\n",
       "    </tr>\n",
       "    <tr>\n",
       "      <th>7478</th>\n",
       "      <td>I did not do the homework that the teacher had...</td>\n",
       "      <td>shame</td>\n",
       "    </tr>\n",
       "    <tr>\n",
       "      <th>7479</th>\n",
       "      <td>I had shouted at my younger brother and he was...</td>\n",
       "      <td>guilt</td>\n",
       "    </tr>\n",
       "  </tbody>\n",
       "</table>\n",
       "<p>27480 rows × 2 columns</p>\n",
       "</div>"
      ],
      "text/plain": [
       "                                                   text  emotion\n",
       "0     im feeling rather rotten so im not very ambiti...  sadness\n",
       "1             im updating my blog because i feel shitty  sadness\n",
       "2     i never make her separate from me because i do...  sadness\n",
       "3     i left with my bouquet of red and yellow tulip...      joy\n",
       "4       i was feeling a little vain when i did this one  sadness\n",
       "...                                                 ...      ...\n",
       "7475  Two years back someone invited me to be the tu...    anger\n",
       "7476  I had taken the responsibility to do something...  sadness\n",
       "7477  I was at home and I heard a loud sound of spit...  disgust\n",
       "7478  I did not do the homework that the teacher had...    shame\n",
       "7479  I had shouted at my younger brother and he was...    guilt\n",
       "\n",
       "[27480 rows x 2 columns]"
      ]
     },
     "execution_count": 32,
     "metadata": {},
     "output_type": "execute_result"
    }
   ],
   "source": [
    "# merge data from both the sources into 1 dataset:\n",
    "data = pd.concat((data1,data2),axis=0)\n",
    "data"
   ]
  },
  {
   "cell_type": "code",
   "execution_count": 33,
   "id": "ca087894",
   "metadata": {
    "execution": {
     "iopub.execute_input": "2023-06-24T00:34:45.840555Z",
     "iopub.status.busy": "2023-06-24T00:34:45.839872Z",
     "iopub.status.idle": "2023-06-24T00:34:45.856670Z",
     "shell.execute_reply": "2023-06-24T00:34:45.855122Z"
    },
    "papermill": {
     "duration": 0.041179,
     "end_time": "2023-06-24T00:34:45.859013",
     "exception": false,
     "start_time": "2023-06-24T00:34:45.817834",
     "status": "completed"
    },
    "tags": []
   },
   "outputs": [
    {
     "name": "stdout",
     "output_type": "stream",
     "text": [
      "emotion\n",
      "joy         7845\n",
      "sadness     6876\n",
      "anger       3789\n",
      "fear        3451\n",
      "love        1641\n",
      "disgust     1057\n",
      "guilt       1057\n",
      "shame       1045\n",
      "surprise     719\n",
      "Name: count, dtype: int64\n",
      "Number of classes:  9\n",
      "Data Size: 27480\n"
     ]
    }
   ],
   "source": [
    "# classes and value counts:\n",
    "print(data.emotion.value_counts())\n",
    "print(\"Number of classes: \",len(data.emotion.value_counts()))\n",
    "print('Data Size:',data.shape[0])"
   ]
  },
  {
   "cell_type": "markdown",
   "id": "82653542",
   "metadata": {
    "papermill": {
     "duration": 0.020268,
     "end_time": "2023-06-24T00:34:45.899861",
     "exception": false,
     "start_time": "2023-06-24T00:34:45.879593",
     "status": "completed"
    },
    "tags": []
   },
   "source": [
    "### Clean the dataest"
   ]
  },
  {
   "cell_type": "code",
   "execution_count": 34,
   "id": "470a6419",
   "metadata": {
    "execution": {
     "iopub.execute_input": "2023-06-24T00:34:45.943847Z",
     "iopub.status.busy": "2023-06-24T00:34:45.943381Z",
     "iopub.status.idle": "2023-06-24T00:34:45.982143Z",
     "shell.execute_reply": "2023-06-24T00:34:45.980159Z"
    },
    "papermill": {
     "duration": 0.065048,
     "end_time": "2023-06-24T00:34:45.986183",
     "exception": false,
     "start_time": "2023-06-24T00:34:45.921135",
     "status": "completed"
    },
    "tags": []
   },
   "outputs": [
    {
     "data": {
      "text/plain": [
       "58"
      ]
     },
     "execution_count": 34,
     "metadata": {},
     "output_type": "execute_result"
    }
   ],
   "source": [
    "data.duplicated().sum()"
   ]
  },
  {
   "cell_type": "code",
   "execution_count": 35,
   "id": "8e10827c",
   "metadata": {
    "execution": {
     "iopub.execute_input": "2023-06-24T00:34:46.034662Z",
     "iopub.status.busy": "2023-06-24T00:34:46.033271Z",
     "iopub.status.idle": "2023-06-24T00:34:46.073232Z",
     "shell.execute_reply": "2023-06-24T00:34:46.071829Z"
    },
    "papermill": {
     "duration": 0.066952,
     "end_time": "2023-06-24T00:34:46.076228",
     "exception": false,
     "start_time": "2023-06-24T00:34:46.009276",
     "status": "completed"
    },
    "tags": []
   },
   "outputs": [],
   "source": [
    "# remove duplicate rows:\n",
    "idx = data.loc[data.duplicated()==True].index\n",
    "data.drop(idx, axis=0, inplace=True)\n",
    "data.reset_index(inplace=True, drop=True)"
   ]
  },
  {
   "cell_type": "code",
   "execution_count": 36,
   "id": "e22759ce",
   "metadata": {
    "execution": {
     "iopub.execute_input": "2023-06-24T00:34:46.120613Z",
     "iopub.status.busy": "2023-06-24T00:34:46.120185Z",
     "iopub.status.idle": "2023-06-24T00:34:46.137008Z",
     "shell.execute_reply": "2023-06-24T00:34:46.135858Z"
    },
    "papermill": {
     "duration": 0.042646,
     "end_time": "2023-06-24T00:34:46.139688",
     "exception": false,
     "start_time": "2023-06-24T00:34:46.097042",
     "status": "completed"
    },
    "tags": []
   },
   "outputs": [
    {
     "name": "stdout",
     "output_type": "stream",
     "text": [
      "emotion\n",
      "joy         7804\n",
      "sadness     6833\n",
      "anger       3780\n",
      "fear        3439\n",
      "love        1635\n",
      "disgust     1056\n",
      "guilt       1053\n",
      "shame       1038\n",
      "surprise     715\n",
      "Name: count, dtype: int64\n",
      "Number of classes: 9\n",
      "Data Size: 27353\n"
     ]
    }
   ],
   "source": [
    "print(data.emotion.value_counts())\n",
    "print(\"Number of classes:\",len(data.emotion.value_counts()))\n",
    "print(\"Data Size:\",data.shape[0])"
   ]
  },
  {
   "cell_type": "code",
   "execution_count": 37,
   "id": "1c22fdd7",
   "metadata": {
    "execution": {
     "iopub.execute_input": "2023-06-24T00:34:46.184299Z",
     "iopub.status.busy": "2023-06-24T00:34:46.183901Z",
     "iopub.status.idle": "2023-06-24T00:34:46.202153Z",
     "shell.execute_reply": "2023-06-24T00:34:46.201242Z"
    },
    "papermill": {
     "duration": 0.043343,
     "end_time": "2023-06-24T00:34:46.204517",
     "exception": false,
     "start_time": "2023-06-24T00:34:46.161174",
     "status": "completed"
    },
    "tags": []
   },
   "outputs": [
    {
     "data": {
      "text/html": [
       "<div>\n",
       "<style scoped>\n",
       "    .dataframe tbody tr th:only-of-type {\n",
       "        vertical-align: middle;\n",
       "    }\n",
       "\n",
       "    .dataframe tbody tr th {\n",
       "        vertical-align: top;\n",
       "    }\n",
       "\n",
       "    .dataframe thead th {\n",
       "        text-align: right;\n",
       "    }\n",
       "</style>\n",
       "<table border=\"1\" class=\"dataframe\">\n",
       "  <thead>\n",
       "    <tr style=\"text-align: right;\">\n",
       "      <th></th>\n",
       "      <th>text</th>\n",
       "      <th>emotion</th>\n",
       "    </tr>\n",
       "  </thead>\n",
       "  <tbody>\n",
       "    <tr>\n",
       "      <th>2597</th>\n",
       "      <td>i have had several new members tell me how com...</td>\n",
       "      <td>joy</td>\n",
       "    </tr>\n",
       "    <tr>\n",
       "      <th>2871</th>\n",
       "      <td>i feel not having a generous spirit or a forgi...</td>\n",
       "      <td>joy</td>\n",
       "    </tr>\n",
       "    <tr>\n",
       "      <th>3220</th>\n",
       "      <td>i don t always feel like i have amazing style ...</td>\n",
       "      <td>surprise</td>\n",
       "    </tr>\n",
       "    <tr>\n",
       "      <th>3776</th>\n",
       "      <td>i feel like i am in paradise kissing those swe...</td>\n",
       "      <td>love</td>\n",
       "    </tr>\n",
       "    <tr>\n",
       "      <th>3981</th>\n",
       "      <td>i feel so tortured by it</td>\n",
       "      <td>anger</td>\n",
       "    </tr>\n",
       "  </tbody>\n",
       "</table>\n",
       "</div>"
      ],
      "text/plain": [
       "                                                   text   emotion\n",
       "2597  i have had several new members tell me how com...       joy\n",
       "2871  i feel not having a generous spirit or a forgi...       joy\n",
       "3220  i don t always feel like i have amazing style ...  surprise\n",
       "3776  i feel like i am in paradise kissing those swe...      love\n",
       "3981                           i feel so tortured by it     anger"
      ]
     },
     "execution_count": 37,
     "metadata": {},
     "output_type": "execute_result"
    }
   ],
   "source": [
    "# check data with same text but different emotions\n",
    "data.loc[data.text.duplicated()==True].head()"
   ]
  },
  {
   "cell_type": "code",
   "execution_count": 38,
   "id": "79da049f",
   "metadata": {
    "execution": {
     "iopub.execute_input": "2023-06-24T00:34:46.250334Z",
     "iopub.status.busy": "2023-06-24T00:34:46.249629Z",
     "iopub.status.idle": "2023-06-24T00:34:46.306283Z",
     "shell.execute_reply": "2023-06-24T00:34:46.304884Z"
    },
    "papermill": {
     "duration": 0.08293,
     "end_time": "2023-06-24T00:34:46.308991",
     "exception": false,
     "start_time": "2023-06-24T00:34:46.226061",
     "status": "completed"
    },
    "tags": []
   },
   "outputs": [
    {
     "data": {
      "text/html": [
       "<div>\n",
       "<style scoped>\n",
       "    .dataframe tbody tr th:only-of-type {\n",
       "        vertical-align: middle;\n",
       "    }\n",
       "\n",
       "    .dataframe tbody tr th {\n",
       "        vertical-align: top;\n",
       "    }\n",
       "\n",
       "    .dataframe thead th {\n",
       "        text-align: right;\n",
       "    }\n",
       "</style>\n",
       "<table border=\"1\" class=\"dataframe\">\n",
       "  <thead>\n",
       "    <tr style=\"text-align: right;\">\n",
       "      <th></th>\n",
       "      <th>text</th>\n",
       "      <th>emotion</th>\n",
       "    </tr>\n",
       "  </thead>\n",
       "  <tbody>\n",
       "    <tr>\n",
       "      <th>5045</th>\n",
       "      <td>i need to get in touch with what i want and ho...</td>\n",
       "      <td>love</td>\n",
       "    </tr>\n",
       "  </tbody>\n",
       "</table>\n",
       "</div>"
      ],
      "text/plain": [
       "                                                   text emotion\n",
       "5045  i need to get in touch with what i want and ho...    love"
      ]
     },
     "metadata": {},
     "output_type": "display_data"
    },
    {
     "data": {
      "text/html": [
       "<div>\n",
       "<style scoped>\n",
       "    .dataframe tbody tr th:only-of-type {\n",
       "        vertical-align: middle;\n",
       "    }\n",
       "\n",
       "    .dataframe tbody tr th {\n",
       "        vertical-align: top;\n",
       "    }\n",
       "\n",
       "    .dataframe thead th {\n",
       "        text-align: right;\n",
       "    }\n",
       "</style>\n",
       "<table border=\"1\" class=\"dataframe\">\n",
       "  <thead>\n",
       "    <tr style=\"text-align: right;\">\n",
       "      <th></th>\n",
       "      <th>text</th>\n",
       "      <th>emotion</th>\n",
       "    </tr>\n",
       "  </thead>\n",
       "  <tbody>\n",
       "    <tr>\n",
       "      <th>6102</th>\n",
       "      <td>i get the feeling people think im indecisive a...</td>\n",
       "      <td>fear</td>\n",
       "    </tr>\n",
       "  </tbody>\n",
       "</table>\n",
       "</div>"
      ],
      "text/plain": [
       "                                                   text emotion\n",
       "6102  i get the feeling people think im indecisive a...    fear"
      ]
     },
     "metadata": {},
     "output_type": "display_data"
    },
    {
     "data": {
      "text/html": [
       "<div>\n",
       "<style scoped>\n",
       "    .dataframe tbody tr th:only-of-type {\n",
       "        vertical-align: middle;\n",
       "    }\n",
       "\n",
       "    .dataframe tbody tr th {\n",
       "        vertical-align: top;\n",
       "    }\n",
       "\n",
       "    .dataframe thead th {\n",
       "        text-align: right;\n",
       "    }\n",
       "</style>\n",
       "<table border=\"1\" class=\"dataframe\">\n",
       "  <thead>\n",
       "    <tr style=\"text-align: right;\">\n",
       "      <th></th>\n",
       "      <th>text</th>\n",
       "      <th>emotion</th>\n",
       "    </tr>\n",
       "  </thead>\n",
       "  <tbody>\n",
       "    <tr>\n",
       "      <th>6529</th>\n",
       "      <td>i feel like its important to vote on all of th...</td>\n",
       "      <td>joy</td>\n",
       "    </tr>\n",
       "  </tbody>\n",
       "</table>\n",
       "</div>"
      ],
      "text/plain": [
       "                                                   text emotion\n",
       "6529  i feel like its important to vote on all of th...     joy"
      ]
     },
     "metadata": {},
     "output_type": "display_data"
    },
    {
     "data": {
      "text/html": [
       "<div>\n",
       "<style scoped>\n",
       "    .dataframe tbody tr th:only-of-type {\n",
       "        vertical-align: middle;\n",
       "    }\n",
       "\n",
       "    .dataframe tbody tr th {\n",
       "        vertical-align: top;\n",
       "    }\n",
       "\n",
       "    .dataframe thead th {\n",
       "        text-align: right;\n",
       "    }\n",
       "</style>\n",
       "<table border=\"1\" class=\"dataframe\">\n",
       "  <thead>\n",
       "    <tr style=\"text-align: right;\">\n",
       "      <th></th>\n",
       "      <th>text</th>\n",
       "      <th>emotion</th>\n",
       "    </tr>\n",
       "  </thead>\n",
       "  <tbody>\n",
       "    <tr>\n",
       "      <th>7566</th>\n",
       "      <td>i drove back to the beach staring at the thing...</td>\n",
       "      <td>sadness</td>\n",
       "    </tr>\n",
       "  </tbody>\n",
       "</table>\n",
       "</div>"
      ],
      "text/plain": [
       "                                                   text  emotion\n",
       "7566  i drove back to the beach staring at the thing...  sadness"
      ]
     },
     "metadata": {},
     "output_type": "display_data"
    }
   ],
   "source": [
    "# check few of these texts:\n",
    "display(data.loc[data.text==data.text.iloc[5045]])\n",
    "display(data.loc[data.text==data.text.iloc[6102]])\n",
    "display(data.loc[data.text==data.text.iloc[6529]])\n",
    "display(data.loc[data.text==data.text.iloc[7566]])"
   ]
  },
  {
   "cell_type": "code",
   "execution_count": 39,
   "id": "b8c0e770",
   "metadata": {
    "execution": {
     "iopub.execute_input": "2023-06-24T00:34:46.355409Z",
     "iopub.status.busy": "2023-06-24T00:34:46.354960Z",
     "iopub.status.idle": "2023-06-24T00:34:46.370534Z",
     "shell.execute_reply": "2023-06-24T00:34:46.369543Z"
    },
    "papermill": {
     "duration": 0.041867,
     "end_time": "2023-06-24T00:34:46.373178",
     "exception": false,
     "start_time": "2023-06-24T00:34:46.331311",
     "status": "completed"
    },
    "tags": []
   },
   "outputs": [],
   "source": [
    "# removing these data:\n",
    "idx = data[data.text.duplicated()==True].index\n",
    "data.drop(idx, axis=0, inplace=True)\n",
    "data.reset_index(inplace=True, drop=True)"
   ]
  },
  {
   "cell_type": "code",
   "execution_count": 40,
   "id": "45c05fb6",
   "metadata": {
    "execution": {
     "iopub.execute_input": "2023-06-24T00:34:46.419440Z",
     "iopub.status.busy": "2023-06-24T00:34:46.418791Z",
     "iopub.status.idle": "2023-06-24T00:34:46.435463Z",
     "shell.execute_reply": "2023-06-24T00:34:46.434219Z"
    },
    "papermill": {
     "duration": 0.043027,
     "end_time": "2023-06-24T00:34:46.438367",
     "exception": false,
     "start_time": "2023-06-24T00:34:46.395340",
     "status": "completed"
    },
    "tags": []
   },
   "outputs": [
    {
     "name": "stdout",
     "output_type": "stream",
     "text": [
      "emotion\n",
      "joy         7786\n",
      "sadness     6829\n",
      "anger       3774\n",
      "fear        3432\n",
      "love        1623\n",
      "disgust     1054\n",
      "guilt       1051\n",
      "shame       1036\n",
      "surprise     709\n",
      "Name: count, dtype: int64\n",
      "Number of classes: 9\n",
      "Data Size: 27294\n"
     ]
    }
   ],
   "source": [
    "print(data.emotion.value_counts())\n",
    "print(\"Number of classes:\",len(data.emotion.value_counts()))\n",
    "print(\"Data Size:\",data.shape[0])"
   ]
  },
  {
   "cell_type": "code",
   "execution_count": 41,
   "id": "b5acc924",
   "metadata": {
    "execution": {
     "iopub.execute_input": "2023-06-24T00:34:46.485353Z",
     "iopub.status.busy": "2023-06-24T00:34:46.484916Z",
     "iopub.status.idle": "2023-06-24T00:34:46.504742Z",
     "shell.execute_reply": "2023-06-24T00:34:46.503355Z"
    },
    "papermill": {
     "duration": 0.04682,
     "end_time": "2023-06-24T00:34:46.507660",
     "exception": false,
     "start_time": "2023-06-24T00:34:46.460840",
     "status": "completed"
    },
    "tags": []
   },
   "outputs": [
    {
     "data": {
      "text/plain": [
       "array([0.28526416, 0.25020151, 0.13827215, 0.12574192, 0.05946362,\n",
       "       0.03861655, 0.03850663, 0.03795706, 0.02597641])"
      ]
     },
     "execution_count": 41,
     "metadata": {},
     "output_type": "execute_result"
    }
   ],
   "source": [
    "val = np.array(data.emotion.value_counts().values)\n",
    "lab = data.emotion.value_counts().index.tolist()\n",
    "prob = val/val.sum()\n",
    "prob"
   ]
  },
  {
   "cell_type": "markdown",
   "id": "01254e94",
   "metadata": {
    "papermill": {
     "duration": 0.024005,
     "end_time": "2023-06-24T00:34:46.554597",
     "exception": false,
     "start_time": "2023-06-24T00:34:46.530592",
     "status": "completed"
    },
    "tags": []
   },
   "source": [
    "### Train Test Split"
   ]
  },
  {
   "cell_type": "code",
   "execution_count": 42,
   "id": "8a2d5284",
   "metadata": {
    "execution": {
     "iopub.execute_input": "2023-06-24T00:34:46.601810Z",
     "iopub.status.busy": "2023-06-24T00:34:46.601106Z",
     "iopub.status.idle": "2023-06-24T00:34:46.613806Z",
     "shell.execute_reply": "2023-06-24T00:34:46.612516Z"
    },
    "papermill": {
     "duration": 0.039045,
     "end_time": "2023-06-24T00:34:46.616265",
     "exception": false,
     "start_time": "2023-06-24T00:34:46.577220",
     "status": "completed"
    },
    "tags": []
   },
   "outputs": [
    {
     "data": {
      "text/plain": [
       "((21835,), (21835,), (5459,), (5459,))"
      ]
     },
     "execution_count": 42,
     "metadata": {},
     "output_type": "execute_result"
    }
   ],
   "source": [
    "# train test split\n",
    "x_train,x_test,y_train,y_test = train_test_split(data.text.values, data.emotion.values, test_size = 0.2, random_state=42)\n",
    "\n",
    "x_train.shape,y_train.shape,x_test.shape,y_test.shape"
   ]
  },
  {
   "cell_type": "code",
   "execution_count": 43,
   "id": "6c0edaa4",
   "metadata": {
    "execution": {
     "iopub.execute_input": "2023-06-24T00:34:46.663640Z",
     "iopub.status.busy": "2023-06-24T00:34:46.662943Z",
     "iopub.status.idle": "2023-06-24T00:34:46.669951Z",
     "shell.execute_reply": "2023-06-24T00:34:46.668711Z"
    },
    "papermill": {
     "duration": 0.033743,
     "end_time": "2023-06-24T00:34:46.672277",
     "exception": false,
     "start_time": "2023-06-24T00:34:46.638534",
     "status": "completed"
    },
    "tags": []
   },
   "outputs": [
    {
     "data": {
      "text/plain": [
       "\"When I promised to visit my boyfriend and I didn't fulfil the promise.\""
      ]
     },
     "execution_count": 43,
     "metadata": {},
     "output_type": "execute_result"
    }
   ],
   "source": [
    "x_train[11]"
   ]
  },
  {
   "cell_type": "markdown",
   "id": "d0b7f5bf",
   "metadata": {
    "papermill": {
     "duration": 0.021993,
     "end_time": "2023-06-24T00:34:46.717102",
     "exception": false,
     "start_time": "2023-06-24T00:34:46.695109",
     "status": "completed"
    },
    "tags": []
   },
   "source": [
    "## Preprocessing"
   ]
  },
  {
   "cell_type": "markdown",
   "id": "9a51119b",
   "metadata": {
    "papermill": {
     "duration": 0.022657,
     "end_time": "2023-06-24T00:34:46.762551",
     "exception": false,
     "start_time": "2023-06-24T00:34:46.739894",
     "status": "completed"
    },
    "tags": []
   },
   "source": [
    "### Text Preprocessing and Vectorization (NLP)\n",
    "1. **Text Cleaning**\n",
    "    * **Lowercasing sentences**\n",
    "    * **Removing:**\n",
    "        * Hashtags, Mentions, URLs, Emojis\n",
    "        * Punctuation, Numbers, Special Characters, Escape Characters etc.\n",
    "        * Stopwords\n",
    "    * **Text Normalization:** Using Lemmatization technique\n",
    "    \n",
    "    \n",
    "2. **Vectorization:** Using Tfidf Vectorization method"
   ]
  },
  {
   "cell_type": "markdown",
   "id": "fe2ddd6d",
   "metadata": {
    "papermill": {
     "duration": 0.023541,
     "end_time": "2023-06-24T00:34:46.808849",
     "exception": false,
     "start_time": "2023-06-24T00:34:46.785308",
     "status": "completed"
    },
    "tags": []
   },
   "source": [
    "### Text Cleaning"
   ]
  },
  {
   "cell_type": "code",
   "execution_count": 44,
   "id": "c736f885",
   "metadata": {
    "execution": {
     "iopub.execute_input": "2023-06-24T00:34:46.856536Z",
     "iopub.status.busy": "2023-06-24T00:34:46.855894Z",
     "iopub.status.idle": "2023-06-24T00:34:46.898337Z",
     "shell.execute_reply": "2023-06-24T00:34:46.896928Z"
    },
    "papermill": {
     "duration": 0.069852,
     "end_time": "2023-06-24T00:34:46.901269",
     "exception": false,
     "start_time": "2023-06-24T00:34:46.831417",
     "status": "completed"
    },
    "tags": []
   },
   "outputs": [],
   "source": [
    "# function for NLP\n",
    "def nlp(text):\n",
    "    def remove_emoji(text):\n",
    "        emoji_pattern = re.compile(\n",
    "          '['\n",
    "          u'\\U0001F600-\\U0001F64F'  # emoticons\n",
    "          u'\\U0001F300-\\U0001F5FF'  # symbols & pictographs\n",
    "          u'\\U0001F680-\\U0001F6FF'  # transport & map symbols\n",
    "          u'\\U0001F1E0-\\U0001F1FF'  # flags\n",
    "          u'\\U00002702-\\U000027B0'\n",
    "          u'\\U000024C2-\\U0001F251'\n",
    "          ']+',\n",
    "          flags=re.UNICODE)\n",
    "        return emoji_pattern.sub(r'', text)\n",
    "    \n",
    "    def emoticons_to_text(text):\n",
    "        EMOTICONS = {\n",
    "            u\"xD\":\"Funny face\", u\"XD\":\"Funny face\",\n",
    "            u\":3\":\"Happy face\", u\":o\":\"Happy face\",\n",
    "            u\"=D\":\"Laughing\",\n",
    "            u\"D:\":\"Sadness\", u\"D;\":\"Great dismay\", u\"D=\":\"Great dismay\",\n",
    "            u\":O\":\"Surprise\", u\":‑O\":\"Surprise\", u\":‑o\":\"Surprise\", u\":o\":\"Surprise\", u\"o_O\":\"Surprise\",\n",
    "            u\":-0\":\"Shock\", u\":X\":\"Kiss\", u\";D\":\"Wink or smirk\",\n",
    "            u\":p\":\"cheeky, playful\", u\":b\":\"cheeky, playful\", u\"d:\":\"cheeky, playful\",\n",
    "            u\"=p\":\"cheeky, playful\", u\"=P\":\"cheeky, playful\",\n",
    "            u\":L\":\"annoyed\", u\":S\":\"annoyed\", u\":@\":\"annoyed\",\n",
    "            u\":$\":\"blushing\", u\":x\":\"Sealed lips\",\n",
    "            u\"^.^\":\"Laugh\", u\"^_^\":\"Laugh\",\n",
    "            u\"T_T\":\"Sad\", u\";_;\":\"Sad\", u\";n;\":\"Sad\", u\";;\":\"Sad\", u\"QQ\":\"Sad\"\n",
    "        }\n",
    "        for emot in EMOTICONS:\n",
    "            text = re.sub(emot, EMOTICONS[emot], text)\n",
    "        return text\n",
    "    \n",
    "    def abbr_to_text(text):\n",
    "        sample_abbr = {\"$\" : \" dollar \", \"€\" : \" euro \", \"4ao\" : \"for adults only\", \"a.m\" : \"before midday\", \"a3\" : \"anytime anywhere anyplace\",\n",
    "                        \"aamof\" : \"as a matter of fact\", \"acct\" : \"account\", \"adih\" : \"another day in hell\", \"afaic\" : \"as far as i am concerned\",\n",
    "                        \"afaict\" : \"as far as i can tell\", \"afaik\" : \"as far as i know\", \"afair\" : \"as far as i remember\", \"afk\" : \"away from keyboard\",\n",
    "                        \"app\" : \"application\", \"approx\" : \"approximately\", \"apps\" : \"applications\", \"asap\" : \"as soon as possible\", \"asl\" : \"age, sex, location\",\n",
    "                        \"atk\" : \"at the keyboard\", \"ave.\" : \"avenue\", \"aymm\" : \"are you my mother\", \"ayor\" : \"at your own risk\",\n",
    "                        \"b&b\" : \"bed and breakfast\", \"b+b\" : \"bed and breakfast\", \"b.c\" : \"before christ\", \"b2b\" : \"business to business\",\n",
    "                        \"b2c\" : \"business to customer\", \"b4\" : \"before\", \"b4n\" : \"bye for now\", \"b@u\" : \"back at you\", \"bae\" : \"before anyone else\",\n",
    "                        \"bak\" : \"back at keyboard\", \"bbbg\" : \"bye bye be good\", \"bbc\" : \"british broadcasting corporation\", \"bbias\" : \"be back in a second\",\n",
    "                        \"bbl\" : \"be back later\", \"bbs\" : \"be back soon\", \"be4\" : \"before\", \"bfn\" : \"bye for now\", \"blvd\" : \"boulevard\", \"bout\" : \"about\",\n",
    "                        \"brb\" : \"be right back\", \"bros\" : \"brothers\", \"brt\" : \"be right there\", \"bsaaw\" : \"big smile and a wink\", \"btw\" : \"by the way\",\n",
    "                        \"bwl\" : \"bursting with laughter\", \"c/o\" : \"care of\", \"cet\" : \"central european time\", \"cf\" : \"compare\", \"cia\" : \"central intelligence agency\",\n",
    "                        \"csl\" : \"can not stop laughing\", \"cu\" : \"see you\", \"cul8r\" : \"see you later\", \"cv\" : \"curriculum vitae\", \"cwot\" : \"complete waste of time\",\n",
    "                        \"cya\" : \"see you\", \"cyt\" : \"see you tomorrow\", \"dae\" : \"does anyone else\", \"dbmib\" : \"do not bother me i am busy\", \"diy\" : \"do it yourself\",\n",
    "                        \"dm\" : \"direct message\", \"dwh\" : \"during work hours\", \"e123\" : \"easy as one two three\", \"eet\" : \"eastern european time\", \"eg\" : \"example\",\n",
    "                        \"embm\" : \"early morning business meeting\", \"encl\" : \"enclosed\", \"encl.\" : \"enclosed\", \"etc\" : \"and so on\", \"faq\" : \"frequently asked questions\",\n",
    "                        \"fawc\" : \"for anyone who cares\", \"fb\" : \"facebook\", \"fc\" : \"fingers crossed\", \"fig\" : \"figure\",\"fimh\" : \"forever in my heart\", \n",
    "                        \"ft.\" : \"feet\", \"ft\" : \"featuring\", \"ftl\" : \"for the loss\", \"ftw\" : \"for the win\", \"fwiw\" : \"for what it is worth\", \"fyi\" : \"for your information\",\n",
    "                        \"g9\" : \"genius\", \"gahoy\" : \"get a hold of yourself\", \"gal\" : \"get a life\", \"gcse\" : \"general certificate of secondary education\",\n",
    "                        \"gfn\" : \"gone for now\", \"gg\" : \"good game\", \"gl\" : \"good luck\", \"glhf\" : \"good luck have fun\", \"gmt\" : \"greenwich mean time\",\n",
    "                        \"gmta\" : \"great minds think alike\", \"gn\" : \"good night\", \"g.o.a.t\" : \"greatest of all time\", \"goat\" : \"greatest of all time\",\n",
    "                        \"goi\" : \"get over it\", \"gps\" : \"global positioning system\", \"gr8\" : \"great\", \"gratz\" : \"congratulations\", \"gyal\" : \"girl\",\n",
    "                        \"h&c\" : \"hot and cold\", \"hp\" : \"horsepower\", \"hr\" : \"hour\", \"hrh\" : \"his royal highness\", \"ht\" : \"height\", \"ibrb\" : \"i will be right back\",\n",
    "                        \"ic\" : \"i see\", \"icq\" : \"i seek you\", \"icymi\" : \"in case you missed it\",\"idc\" : \"i do not care\", \"idgadf\" : \"i do not give a damn fuck\",\n",
    "                        \"idgaf\" : \"i do not give a fuck\", \"idk\" : \"i do not know\", \"ie\" : \"that is\", \"i.e\" : \"that is\", \"iykyk\":\"if you know you know\",\n",
    "                        \"ifyp\" : \"i feel your pain\", \"IG\" : \"instagram\", \"ig\":\"instagram\", \"iirc\" : \"if i remember correctly\", \"ilu\" : \"i love you\",\n",
    "                        \"ily\" : \"i love you\", \"imho\" : \"in my humble opinion\", \"imo\" : \"in my opinion\", \"imu\" : \"i miss you\", \"iow\" : \"in other words\",\n",
    "                        \"irl\" : \"in real life\", \"j4f\" : \"just for fun\", \"jic\" : \"just in case\", \"jk\" : \"just kidding\", \"jsyk\" : \"just so you know\",\n",
    "                        \"l8r\" : \"later\", \"lb\" : \"pound\", \"lbs\" : \"pounds\", \"ldr\" : \"long distance relationship\", \"lmao\" : \"laugh my ass off\", \"luv\":\"love\",\n",
    "                        \"lmfao\" : \"laugh my fucking ass off\", \"lol\" : \"laughing out loud\", \"ltd\" : \"limited\",\"ltns\" : \"long time no see\", \"m8\" : \"mate\",\n",
    "                        \"mf\" : \"motherfucker\", \"mfs\" : \"motherfuckers\", \"mfw\" : \"my face when\",\"mofo\" : \"motherfucker\",\"mph\" : \"miles per hour\",\"mr\" : \"mister\",\n",
    "                        \"mrw\" : \"my reaction when\", \"ms\" : \"miss\", \"mte\" : \"my thoughts exactly\", \"nagi\" : \"not a good idea\", \"nbc\" : \"national broadcasting company\",\n",
    "                        \"nbd\" : \"not big deal\", \"nfs\" : \"not for sale\", \"ngl\" : \"not going to lie\", \"nhs\" : \"national health service\", \"nrn\" : \"no reply necessary\",\n",
    "                        \"nsfl\" : \"not safe for life\", \"nsfw\" : \"not safe for work\", \"nth\" : \"nice to have\", \"nvr\" : \"never\", \"nyc\" : \"new york city\",\n",
    "                        \"oc\" : \"original content\", \"og\" : \"original\", \"ohp\" : \"overhead projector\", \"oic\" : \"oh i see\", \"omdb\" : \"over my dead body\",\n",
    "                        \"omg\" : \"oh my god\", \"omw\" : \"on my way\", \"p.a\" : \"per annum\", \"p.m\" : \"after midday\", \"pm\" : \"prime minister\", \"poc\" : \"people of color\",\n",
    "                        \"pov\" : \"point of view\", \"pp\" : \"pages\", \"ppl\" : \"people\", \"prw\" : \"parents are watching\", \"ps\" : \"postscript\", \"pt\" : \"point\",\n",
    "                        \"ptb\" : \"please text back\", \"pto\" : \"please turn over\",\"qpsa\" : \"what happens\", \"ratchet\" : \"rude\", \"rbtl\" : \"read between the lines\",\n",
    "                        \"rlrt\" : \"real life retweet\",  \"rofl\" : \"rolling on the floor laughing\", \"roflol\" : \"rolling on the floor laughing out loud\",\n",
    "                        \"rotflmao\" : \"rolling on the floor laughing my ass off\", \"rt\" : \"retweet\", \"ruok\" : \"are you ok\", \"sfw\" : \"safe for work\", \"sk8\" : \"skate\",\n",
    "                        \"smh\" : \"shake my head\", \"sq\" : \"square\", \"srsly\" : \"seriously\", \n",
    "                        \"ssdd\" : \"same stuff different day\", \"tbh\" : \"to be honest\", \"tbs\" : \"tablespooful\", \"tbsp\" : \"tablespooful\", \"tfw\" : \"that feeling when\",\n",
    "                        \"thks\" : \"thank you\", \"tho\" : \"though\", \"thx\" : \"thank you\", \"tia\" : \"thanks in advance\", \"til\" : \"today i learned\", \"tl;dr\" : \"too long i did not read\", \"tldr\" : \"too long i did not read\",\n",
    "                        \"tmb\" : \"tweet me back\", \"tntl\" : \"trying not to laugh\", \"ttyl\" : \"talk to you later\", \"u\" : \"you\", \"u2\" : \"you too\", \"u4e\" : \"yours for ever\",\n",
    "                        \"utc\" : \"coordinated universal time\", \"w/\" : \"with\", \"w/o\" : \"without\", \"w8\" : \"wait\", \"wassup\" : \"what is up\", \"wb\" : \"welcome back\",\n",
    "                        \"wtf\" : \"what the fuck\", \"wtg\" : \"way to go\", \"wtpa\" : \"where the party at\", \"wuf\" : \"where are you from\", \"wuzup\" : \"what is up\",\n",
    "                        \"wywh\" : \"wish you were here\", \"yd\" : \"yard\", \"ygtr\" : \"you got that right\", \"ynk\" : \"you never know\", \"zzz\" : \"sleeping bored and tired\"\n",
    "                    }\n",
    "        sample_abbr_pattern = re.compile(r'(?<!\\w)(' + '|'.join(re.escape(key) for key in sample_abbr.keys()) + r')(?!\\w)')\n",
    "        text = sample_abbr_pattern.sub(lambda x: sample_abbr[x.group()], text)\n",
    "        return text\n",
    "    \n",
    "    def correct_spellings(text):\n",
    "        spell = SpellChecker()\n",
    "        corrected_text = []\n",
    "        misspelled_words = spell.unknown(text.split())\n",
    "        for word in text.split():\n",
    "            if word in misspelled_words:\n",
    "                corrected_text.append(spell.correction(word))\n",
    "            else:\n",
    "                corrected_text.append(word)\n",
    "        return \" \".join(str(word) for word in corrected_text)\n",
    "    \n",
    "    \n",
    "    def lemmatize(text):\n",
    "        lemmatizer = WordNetLemmatizer()\n",
    "        words = ' '.join([lemmatizer.lemmatize(word) for word in text.split() if word not in stopwords.words('english')])\n",
    "        return words\n",
    "    \n",
    "    text = remove_emoji(text)\n",
    "    text = emoticons_to_text(text)\n",
    "    text = str(text).lower()\n",
    "    text = abbr_to_text(text)\n",
    "    text = re.sub(r'<.*?>','', text)  # HTML tags\n",
    "    text = re.sub(r'https?://\\S+|www\\.\\S+','',text)  # URLs\n",
    "    text = re.sub(r'@\\S+','',text)  # Mentions\n",
    "    text = re.sub(r'&\\S+','',text)  # html characters\n",
    "    text = re.sub(r'[^\\x00-\\x7f]','',text)  # non-ASCII\n",
    "    text = contractions.fix(text)  # update contractions\n",
    "    text = re.sub(r'[]!\"$%&\\'()*+,./:;=#@?[\\\\^_`{|}~-]+', \"\", text)  # punctuations, special chars\n",
    "    text = re.sub(r'\\s+', ' ', text)\n",
    "    text = correct_spellings(text)\n",
    "    text = lemmatize(text)\n",
    "    return text"
   ]
  },
  {
   "cell_type": "code",
   "execution_count": 45,
   "id": "b83dfd24",
   "metadata": {
    "execution": {
     "iopub.execute_input": "2023-06-24T00:34:46.948846Z",
     "iopub.status.busy": "2023-06-24T00:34:46.948308Z",
     "iopub.status.idle": "2023-06-24T01:31:42.096045Z",
     "shell.execute_reply": "2023-06-24T01:31:42.094750Z"
    },
    "papermill": {
     "duration": 3415.174236,
     "end_time": "2023-06-24T01:31:42.098442",
     "exception": false,
     "start_time": "2023-06-24T00:34:46.924206",
     "status": "completed"
    },
    "tags": []
   },
   "outputs": [
    {
     "data": {
      "application/vnd.jupyter.widget-view+json": {
       "model_id": "ad532addeab747c2a20a868513f387df",
       "version_major": 2,
       "version_minor": 0
      },
      "text/plain": [
       "Progress:   0%|          | 0/21835 [00:00<?, ?it/s]"
      ]
     },
     "metadata": {},
     "output_type": "display_data"
    },
    {
     "data": {
      "application/vnd.jupyter.widget-view+json": {
       "model_id": "80eba8437e1444cd92ed2af38e4b7909",
       "version_major": 2,
       "version_minor": 0
      },
      "text/plain": [
       "Progress:   0%|          | 0/5459 [00:00<?, ?it/s]"
      ]
     },
     "metadata": {},
     "output_type": "display_data"
    }
   ],
   "source": [
    "# cleaning texts\n",
    "x_train_clean = np.array([nlp(text) for text in tqdm(x_train, desc='Progress')])\n",
    "x_test_clean = np.array([nlp(sent) for sent in tqdm(x_test, desc='Progress')])"
   ]
  },
  {
   "cell_type": "code",
   "execution_count": 46,
   "id": "bd8e76e6",
   "metadata": {
    "execution": {
     "iopub.execute_input": "2023-06-24T01:31:42.147223Z",
     "iopub.status.busy": "2023-06-24T01:31:42.146362Z",
     "iopub.status.idle": "2023-06-24T01:31:42.154316Z",
     "shell.execute_reply": "2023-06-24T01:31:42.153215Z"
    },
    "papermill": {
     "duration": 0.034689,
     "end_time": "2023-06-24T01:31:42.156768",
     "exception": false,
     "start_time": "2023-06-24T01:31:42.122079",
     "status": "completed"
    },
    "tags": []
   },
   "outputs": [
    {
     "data": {
      "text/plain": [
       "'promised visit boyfriend fulfil promise'"
      ]
     },
     "execution_count": 46,
     "metadata": {},
     "output_type": "execute_result"
    }
   ],
   "source": [
    "# text after cleaning\n",
    "x_train_clean[11]"
   ]
  },
  {
   "cell_type": "markdown",
   "id": "e7542634",
   "metadata": {
    "papermill": {
     "duration": 0.023219,
     "end_time": "2023-06-24T01:31:42.203549",
     "exception": false,
     "start_time": "2023-06-24T01:31:42.180330",
     "status": "completed"
    },
    "tags": []
   },
   "source": [
    "### Vectorization"
   ]
  },
  {
   "cell_type": "code",
   "execution_count": 47,
   "id": "091192e6",
   "metadata": {
    "execution": {
     "iopub.execute_input": "2023-06-24T01:31:42.251443Z",
     "iopub.status.busy": "2023-06-24T01:31:42.251061Z",
     "iopub.status.idle": "2023-06-24T01:31:43.441709Z",
     "shell.execute_reply": "2023-06-24T01:31:43.440878Z"
    },
    "papermill": {
     "duration": 1.21763,
     "end_time": "2023-06-24T01:31:43.444152",
     "exception": false,
     "start_time": "2023-06-24T01:31:42.226522",
     "status": "completed"
    },
    "tags": []
   },
   "outputs": [
    {
     "data": {
      "text/plain": [
       "(<21835x17974 sparse matrix of type '<class 'numpy.float64'>'\n",
       " \twith 191470 stored elements in Compressed Sparse Row format>,\n",
       " <5459x17974 sparse matrix of type '<class 'numpy.float64'>'\n",
       " \twith 46960 stored elements in Compressed Sparse Row format>)"
      ]
     },
     "execution_count": 47,
     "metadata": {},
     "output_type": "execute_result"
    }
   ],
   "source": [
    "tfidf = TfidfVectorizer()\n",
    "tfidf.fit(x_train)\n",
    "x_train_ready = tfidf.transform(x_train_clean)\n",
    "x_test_ready = tfidf.transform(x_test_clean)\n",
    "\n",
    "x_train_ready, x_test_ready"
   ]
  },
  {
   "cell_type": "markdown",
   "id": "2f1bfbf0",
   "metadata": {
    "papermill": {
     "duration": 0.022758,
     "end_time": "2023-06-24T01:31:43.490210",
     "exception": false,
     "start_time": "2023-06-24T01:31:43.467452",
     "status": "completed"
    },
    "tags": []
   },
   "source": [
    "### Label Encoding"
   ]
  },
  {
   "cell_type": "code",
   "execution_count": 48,
   "id": "0ed2f3ec",
   "metadata": {
    "execution": {
     "iopub.execute_input": "2023-06-24T01:31:43.539157Z",
     "iopub.status.busy": "2023-06-24T01:31:43.538732Z",
     "iopub.status.idle": "2023-06-24T01:31:43.554256Z",
     "shell.execute_reply": "2023-06-24T01:31:43.553312Z"
    },
    "papermill": {
     "duration": 0.043265,
     "end_time": "2023-06-24T01:31:43.556676",
     "exception": false,
     "start_time": "2023-06-24T01:31:43.513411",
     "status": "completed"
    },
    "tags": []
   },
   "outputs": [],
   "source": [
    "enc = LabelEncoder()\n",
    "enc.fit(y_train)\n",
    "y_train_ready = enc.transform(y_train)\n",
    "y_test_ready = enc.transform(y_test)"
   ]
  },
  {
   "cell_type": "code",
   "execution_count": 49,
   "id": "05452176",
   "metadata": {
    "execution": {
     "iopub.execute_input": "2023-06-24T01:31:43.605712Z",
     "iopub.status.busy": "2023-06-24T01:31:43.604699Z",
     "iopub.status.idle": "2023-06-24T01:31:43.612004Z",
     "shell.execute_reply": "2023-06-24T01:31:43.610969Z"
    },
    "papermill": {
     "duration": 0.034473,
     "end_time": "2023-06-24T01:31:43.614502",
     "exception": false,
     "start_time": "2023-06-24T01:31:43.580029",
     "status": "completed"
    },
    "tags": []
   },
   "outputs": [
    {
     "data": {
      "text/plain": [
       "array(['anger', 'disgust', 'fear', 'guilt', 'joy', 'love', 'sadness',\n",
       "       'shame', 'surprise'], dtype=object)"
      ]
     },
     "execution_count": 49,
     "metadata": {},
     "output_type": "execute_result"
    }
   ],
   "source": [
    "labels = enc.classes_\n",
    "labels"
   ]
  },
  {
   "cell_type": "markdown",
   "id": "039eed34",
   "metadata": {
    "papermill": {
     "duration": 0.02443,
     "end_time": "2023-06-24T01:31:43.662335",
     "exception": false,
     "start_time": "2023-06-24T01:31:43.637905",
     "status": "completed"
    },
    "tags": []
   },
   "source": [
    "## Machine Learning\n",
    "(Apply processed data to various ML models like: ```Logistic Regression```, ```Naive Bayes```, ```SVM```, ```KNN```, ```Decision Trees```, ```Random Forest Ensemble```, and we also try to make a ```Stacking Ensemble```, by top 2 best preforming models)"
   ]
  },
  {
   "cell_type": "code",
   "execution_count": 50,
   "id": "9d12365d",
   "metadata": {
    "execution": {
     "iopub.execute_input": "2023-06-24T01:31:43.711247Z",
     "iopub.status.busy": "2023-06-24T01:31:43.710857Z",
     "iopub.status.idle": "2023-06-24T01:31:43.715351Z",
     "shell.execute_reply": "2023-06-24T01:31:43.714172Z"
    },
    "papermill": {
     "duration": 0.031941,
     "end_time": "2023-06-24T01:31:43.717787",
     "exception": false,
     "start_time": "2023-06-24T01:31:43.685846",
     "status": "completed"
    },
    "tags": []
   },
   "outputs": [],
   "source": [
    "result = {}"
   ]
  },
  {
   "cell_type": "code",
   "execution_count": 61,
   "id": "1767431c",
   "metadata": {},
   "outputs": [],
   "source": [
    "from sklearn.linear_model import LogisticRegression\n",
    "from sklearn.model_selection import train_test_split\n",
    "from sklearn.metrics import accuracy_score\n"
   ]
  },
  {
   "cell_type": "code",
   "execution_count": 51,
   "id": "b95cb54a",
   "metadata": {
    "execution": {
     "iopub.execute_input": "2023-06-24T01:31:43.766535Z",
     "iopub.status.busy": "2023-06-24T01:31:43.766156Z",
     "iopub.status.idle": "2023-06-24T01:31:44.368955Z",
     "shell.execute_reply": "2023-06-24T01:31:44.367926Z"
    },
    "papermill": {
     "duration": 0.630488,
     "end_time": "2023-06-24T01:31:44.371526",
     "exception": false,
     "start_time": "2023-06-24T01:31:43.741038",
     "status": "completed"
    },
    "tags": []
   },
   "outputs": [
    {
     "name": "stdout",
     "output_type": "stream",
     "text": [
      "0.7906209928558344\n"
     ]
    }
   ],
   "source": [
    "log = LogisticRegression(max_iter=10000, penalty='l1', solver='liblinear')\n",
    "log.fit(x_train_ready,y_train_ready)\n",
    "log_score = log.score(x_test_ready,y_test_ready)\n",
    "result['Logistic Regression']=log_score\n",
    "print(log_score)"
   ]
  },
  {
   "cell_type": "code",
   "execution_count": 62,
   "id": "2f94b3f6",
   "metadata": {},
   "outputs": [],
   "source": [
    "from sklearn.naive_bayes import MultinomialNB\n"
   ]
  },
  {
   "cell_type": "code",
   "execution_count": 52,
   "id": "e8239805",
   "metadata": {
    "execution": {
     "iopub.execute_input": "2023-06-24T01:31:44.422126Z",
     "iopub.status.busy": "2023-06-24T01:31:44.421735Z",
     "iopub.status.idle": "2023-06-24T01:31:44.448493Z",
     "shell.execute_reply": "2023-06-24T01:31:44.447131Z"
    },
    "papermill": {
     "duration": 0.055843,
     "end_time": "2023-06-24T01:31:44.451118",
     "exception": false,
     "start_time": "2023-06-24T01:31:44.395275",
     "status": "completed"
    },
    "tags": []
   },
   "outputs": [
    {
     "name": "stdout",
     "output_type": "stream",
     "text": [
      "0.6975636563473163\n"
     ]
    }
   ],
   "source": [
    "nb = MultinomialNB(fit_prior=False)\n",
    "nb.fit(x_train_ready,y_train_ready)\n",
    "nb_score = nb.score(x_test_ready,y_test_ready)\n",
    "result['Naive Bayes']=nb_score\n",
    "print(nb_score)"
   ]
  },
  {
   "cell_type": "code",
   "execution_count": 63,
   "id": "9aa43406",
   "metadata": {},
   "outputs": [],
   "source": [
    "from sklearn.svm import LinearSVC"
   ]
  },
  {
   "cell_type": "code",
   "execution_count": 53,
   "id": "16a22f8f",
   "metadata": {
    "execution": {
     "iopub.execute_input": "2023-06-24T01:31:44.502088Z",
     "iopub.status.busy": "2023-06-24T01:31:44.501696Z",
     "iopub.status.idle": "2023-06-24T01:31:44.930106Z",
     "shell.execute_reply": "2023-06-24T01:31:44.929038Z"
    },
    "papermill": {
     "duration": 0.456264,
     "end_time": "2023-06-24T01:31:44.932794",
     "exception": false,
     "start_time": "2023-06-24T01:31:44.476530",
     "status": "completed"
    },
    "tags": []
   },
   "outputs": [
    {
     "name": "stdout",
     "output_type": "stream",
     "text": [
      "0.7853086645905843\n"
     ]
    }
   ],
   "source": [
    "svm = LinearSVC(C=0.5)\n",
    "svm.fit(x_train_ready,y_train_ready)\n",
    "svm_score = svm.score(x_test_ready,y_test_ready)\n",
    "result['SVM']=svm_score\n",
    "print(svm_score)"
   ]
  },
  {
   "cell_type": "code",
   "execution_count": 64,
   "id": "156b36e2",
   "metadata": {},
   "outputs": [],
   "source": [
    "from sklearn.tree import DecisionTreeClassifier"
   ]
  },
  {
   "cell_type": "code",
   "execution_count": 54,
   "id": "acc44964",
   "metadata": {
    "execution": {
     "iopub.execute_input": "2023-06-24T01:31:44.982901Z",
     "iopub.status.busy": "2023-06-24T01:31:44.981827Z",
     "iopub.status.idle": "2023-06-24T01:31:52.752467Z",
     "shell.execute_reply": "2023-06-24T01:31:52.751115Z"
    },
    "papermill": {
     "duration": 7.798608,
     "end_time": "2023-06-24T01:31:52.755194",
     "exception": false,
     "start_time": "2023-06-24T01:31:44.956586",
     "status": "completed"
    },
    "tags": []
   },
   "outputs": [
    {
     "name": "stdout",
     "output_type": "stream",
     "text": [
      "0.7497710203333944\n"
     ]
    }
   ],
   "source": [
    "dt = DecisionTreeClassifier(criterion='gini', max_depth=1000, \n",
    "                            splitter='best', random_state=1)\n",
    "dt.fit(x_train_ready,y_train_ready)\n",
    "dt_score = dt.score(x_test_ready,y_test_ready)\n",
    "result['Decision Tree']=dt_score\n",
    "print(dt_score)"
   ]
  },
  {
   "cell_type": "code",
   "execution_count": 65,
   "id": "07b37c4d",
   "metadata": {},
   "outputs": [],
   "source": [
    "from sklearn.neighbors import KNeighborsClassifier"
   ]
  },
  {
   "cell_type": "code",
   "execution_count": 55,
   "id": "1e947eaf",
   "metadata": {
    "execution": {
     "iopub.execute_input": "2023-06-24T01:31:52.805752Z",
     "iopub.status.busy": "2023-06-24T01:31:52.805268Z",
     "iopub.status.idle": "2023-06-24T01:32:01.681521Z",
     "shell.execute_reply": "2023-06-24T01:32:01.680346Z"
    },
    "papermill": {
     "duration": 8.905056,
     "end_time": "2023-06-24T01:32:01.684038",
     "exception": false,
     "start_time": "2023-06-24T01:31:52.778982",
     "status": "completed"
    },
    "tags": []
   },
   "outputs": [
    {
     "name": "stdout",
     "output_type": "stream",
     "text": [
      "0.6702692800879282\n"
     ]
    }
   ],
   "source": [
    "knn = KNeighborsClassifier(n_neighbors=7)\n",
    "knn.fit(x_train_ready,y_train_ready)\n",
    "knn_score = knn.score(x_test_ready,y_test_ready)\n",
    "result['KNN']=knn_score\n",
    "print(knn_score)"
   ]
  },
  {
   "cell_type": "code",
   "execution_count": 66,
   "id": "168230ef",
   "metadata": {},
   "outputs": [],
   "source": [
    "from sklearn.ensemble import RandomForestClassifier\n"
   ]
  },
  {
   "cell_type": "code",
   "execution_count": 56,
   "id": "5890898d",
   "metadata": {
    "execution": {
     "iopub.execute_input": "2023-06-24T01:32:01.734245Z",
     "iopub.status.busy": "2023-06-24T01:32:01.733048Z",
     "iopub.status.idle": "2023-06-24T01:34:46.106955Z",
     "shell.execute_reply": "2023-06-24T01:34:46.105392Z"
    },
    "papermill": {
     "duration": 164.423339,
     "end_time": "2023-06-24T01:34:46.131365",
     "exception": false,
     "start_time": "2023-06-24T01:32:01.708026",
     "status": "completed"
    },
    "tags": []
   },
   "outputs": [
    {
     "name": "stdout",
     "output_type": "stream",
     "text": [
      "0.7810954387250412\n"
     ]
    }
   ],
   "source": [
    "rf = RandomForestClassifier(n_estimators=200)\n",
    "rf.fit(x_train_ready,y_train_ready)\n",
    "rf_score = rf.score(x_test_ready,y_test_ready)\n",
    "result['Random Forest']=rf_score\n",
    "print(rf_score)"
   ]
  },
  {
   "cell_type": "code",
   "execution_count": 67,
   "id": "803a8b91",
   "metadata": {},
   "outputs": [],
   "source": [
    "from sklearn.ensemble import StackingClassifier\n",
    "from sklearn.linear_model import LogisticRegression\n",
    "from sklearn.svm import LinearSVC\n",
    "from sklearn.model_selection import train_test_split\n",
    "from sklearn.metrics import accuracy_score\n"
   ]
  },
  {
   "cell_type": "code",
   "execution_count": 57,
   "id": "9b0182ca",
   "metadata": {
    "execution": {
     "iopub.execute_input": "2023-06-24T01:34:46.181658Z",
     "iopub.status.busy": "2023-06-24T01:34:46.180538Z",
     "iopub.status.idle": "2023-06-24T01:34:59.015590Z",
     "shell.execute_reply": "2023-06-24T01:34:59.011282Z"
    },
    "papermill": {
     "duration": 12.865385,
     "end_time": "2023-06-24T01:34:59.020464",
     "exception": false,
     "start_time": "2023-06-24T01:34:46.155079",
     "status": "completed"
    },
    "tags": []
   },
   "outputs": [
    {
     "name": "stdout",
     "output_type": "stream",
     "text": [
      "0.7959333211210845\n"
     ]
    }
   ],
   "source": [
    "# stack best performing models and try to create a better model\n",
    "stack1 = StackingClassifier(estimators=[('nb',LogisticRegression(max_iter=10000, penalty='l1', solver='liblinear')),\n",
    "                                        ('svm',LinearSVC(C=0.5))], \n",
    "                            final_estimator=LogisticRegression(max_iter=10000, penalty='l1', solver='liblinear'))\n",
    "stack1.fit(x_train_ready,y_train_ready)\n",
    "stack1_score = stack1.score(x_test_ready,y_test_ready)\n",
    "result['Stack1: Log+SVM']=stack1_score\n",
    "print(stack1_score)"
   ]
  },
  {
   "cell_type": "markdown",
   "id": "6360b6f2",
   "metadata": {
    "papermill": {
     "duration": 0.051466,
     "end_time": "2023-06-24T01:34:59.124812",
     "exception": false,
     "start_time": "2023-06-24T01:34:59.073346",
     "status": "completed"
    },
    "tags": []
   },
   "source": [
    "## Model Comparison\n",
    "(Compare preformance of trained models)"
   ]
  },
  {
   "cell_type": "code",
   "execution_count": 68,
   "id": "980b3a5e",
   "metadata": {},
   "outputs": [],
   "source": [
    "import pandas as pd"
   ]
  },
  {
   "cell_type": "code",
   "execution_count": 58,
   "id": "8a5832d0",
   "metadata": {
    "execution": {
     "iopub.execute_input": "2023-06-24T01:34:59.175695Z",
     "iopub.status.busy": "2023-06-24T01:34:59.175277Z",
     "iopub.status.idle": "2023-06-24T01:34:59.282046Z",
     "shell.execute_reply": "2023-06-24T01:34:59.280931Z"
    },
    "papermill": {
     "duration": 0.135395,
     "end_time": "2023-06-24T01:34:59.284462",
     "exception": false,
     "start_time": "2023-06-24T01:34:59.149067",
     "status": "completed"
    },
    "tags": []
   },
   "outputs": [
    {
     "data": {
      "text/html": [
       "<style type=\"text/css\">\n",
       "#T_266ff_row4_col1 {\n",
       "  background-color: pink;\n",
       "}\n",
       "#T_266ff_row6_col1 {\n",
       "  background-color: lightgreen;\n",
       "}\n",
       "</style>\n",
       "<table id=\"T_266ff\">\n",
       "  <thead>\n",
       "    <tr>\n",
       "      <th class=\"blank level0\" >&nbsp;</th>\n",
       "      <th id=\"T_266ff_level0_col0\" class=\"col_heading level0 col0\" >Model</th>\n",
       "      <th id=\"T_266ff_level0_col1\" class=\"col_heading level0 col1\" >Test Score</th>\n",
       "    </tr>\n",
       "  </thead>\n",
       "  <tbody>\n",
       "    <tr>\n",
       "      <th id=\"T_266ff_level0_row0\" class=\"row_heading level0 row0\" >0</th>\n",
       "      <td id=\"T_266ff_row0_col0\" class=\"data row0 col0\" >Logistic Regression</td>\n",
       "      <td id=\"T_266ff_row0_col1\" class=\"data row0 col1\" >0.790621</td>\n",
       "    </tr>\n",
       "    <tr>\n",
       "      <th id=\"T_266ff_level0_row1\" class=\"row_heading level0 row1\" >1</th>\n",
       "      <td id=\"T_266ff_row1_col0\" class=\"data row1 col0\" >Naive Bayes</td>\n",
       "      <td id=\"T_266ff_row1_col1\" class=\"data row1 col1\" >0.697564</td>\n",
       "    </tr>\n",
       "    <tr>\n",
       "      <th id=\"T_266ff_level0_row2\" class=\"row_heading level0 row2\" >2</th>\n",
       "      <td id=\"T_266ff_row2_col0\" class=\"data row2 col0\" >SVM</td>\n",
       "      <td id=\"T_266ff_row2_col1\" class=\"data row2 col1\" >0.785309</td>\n",
       "    </tr>\n",
       "    <tr>\n",
       "      <th id=\"T_266ff_level0_row3\" class=\"row_heading level0 row3\" >3</th>\n",
       "      <td id=\"T_266ff_row3_col0\" class=\"data row3 col0\" >Decision Tree</td>\n",
       "      <td id=\"T_266ff_row3_col1\" class=\"data row3 col1\" >0.749771</td>\n",
       "    </tr>\n",
       "    <tr>\n",
       "      <th id=\"T_266ff_level0_row4\" class=\"row_heading level0 row4\" >4</th>\n",
       "      <td id=\"T_266ff_row4_col0\" class=\"data row4 col0\" >KNN</td>\n",
       "      <td id=\"T_266ff_row4_col1\" class=\"data row4 col1\" >0.670269</td>\n",
       "    </tr>\n",
       "    <tr>\n",
       "      <th id=\"T_266ff_level0_row5\" class=\"row_heading level0 row5\" >5</th>\n",
       "      <td id=\"T_266ff_row5_col0\" class=\"data row5 col0\" >Random Forest</td>\n",
       "      <td id=\"T_266ff_row5_col1\" class=\"data row5 col1\" >0.781095</td>\n",
       "    </tr>\n",
       "    <tr>\n",
       "      <th id=\"T_266ff_level0_row6\" class=\"row_heading level0 row6\" >6</th>\n",
       "      <td id=\"T_266ff_row6_col0\" class=\"data row6 col0\" >Stack1: Log+SVM</td>\n",
       "      <td id=\"T_266ff_row6_col1\" class=\"data row6 col1\" >0.795933</td>\n",
       "    </tr>\n",
       "  </tbody>\n",
       "</table>\n"
      ],
      "text/plain": [
       "<pandas.io.formats.style.Styler at 0x226d2a52810>"
      ]
     },
     "metadata": {},
     "output_type": "display_data"
    }
   ],
   "source": [
    "# display results\n",
    "result_df = []\n",
    "for model,score in result.items():\n",
    "    result_df.append([model,score])\n",
    "    \n",
    "result_df = pd.DataFrame(result_df, columns=['Model','Test Score'])\n",
    "result_df = result_df.style\n",
    "result_df = result_df.highlight_max(subset=['Test Score'], color = 'lightgreen')\n",
    "result_df = result_df.highlight_min(subset=['Test Score'], color = 'pink')\n",
    "display(result_df)"
   ]
  },
  {
   "cell_type": "markdown",
   "id": "9a37cc2b",
   "metadata": {
    "papermill": {
     "duration": 0.02457,
     "end_time": "2023-06-24T01:34:59.333759",
     "exception": false,
     "start_time": "2023-06-24T01:34:59.309189",
     "status": "completed"
    },
    "tags": []
   },
   "source": [
    "Note that ```Stack1 Ensemble```, that is created by stacking 2 best preforming individual models: ```Logistic Regression``` and ```SVM``` performed slightly better than both of them "
   ]
  },
  {
   "cell_type": "code",
   "execution_count": 69,
   "id": "dbfb828a",
   "metadata": {},
   "outputs": [],
   "source": [
    "from sklearn.pipeline import Pipeline"
   ]
  },
  {
   "cell_type": "code",
   "execution_count": 59,
   "id": "9e084096",
   "metadata": {
    "execution": {
     "iopub.execute_input": "2023-06-24T01:34:59.386012Z",
     "iopub.status.busy": "2023-06-24T01:34:59.385176Z",
     "iopub.status.idle": "2023-06-24T01:34:59.513691Z",
     "shell.execute_reply": "2023-06-24T01:34:59.511990Z"
    },
    "papermill": {
     "duration": 0.159221,
     "end_time": "2023-06-24T01:34:59.517933",
     "exception": false,
     "start_time": "2023-06-24T01:34:59.358712",
     "status": "completed"
    },
    "tags": []
   },
   "outputs": [
    {
     "data": {
      "text/plain": [
       "0.7959333211210845"
      ]
     },
     "execution_count": 59,
     "metadata": {},
     "output_type": "execute_result"
    }
   ],
   "source": [
    "# compile and model and vectorizer using pipeline\n",
    "model = Pipeline([('vectorizer',tfidf),('model',stack1)])\n",
    "model.score(x_test_clean,y_test_ready)"
   ]
  },
  {
   "cell_type": "code",
   "execution_count": 70,
   "id": "02e1e9c0",
   "metadata": {},
   "outputs": [],
   "source": [
    "import pickle"
   ]
  },
  {
   "cell_type": "code",
   "execution_count": 60,
   "id": "d28c7e5b",
   "metadata": {
    "execution": {
     "iopub.execute_input": "2023-06-24T01:34:59.623561Z",
     "iopub.status.busy": "2023-06-24T01:34:59.623173Z",
     "iopub.status.idle": "2023-06-24T01:34:59.638753Z",
     "shell.execute_reply": "2023-06-24T01:34:59.637743Z"
    },
    "papermill": {
     "duration": 0.070581,
     "end_time": "2023-06-24T01:34:59.641372",
     "exception": false,
     "start_time": "2023-06-24T01:34:59.570791",
     "status": "completed"
    },
    "tags": []
   },
   "outputs": [],
   "source": [
    "# save model\n",
    "pickle.dump(model,open('model.pkl','wb'))\n",
    "# save preprocessing function\n",
    "pickle.dump(nlp,open('nlp.pkl','wb'))\n",
    "# save label encoder\n",
    "pickle.dump(enc,open('encoder.pkl','wb'))"
   ]
  },
  {
   "cell_type": "markdown",
   "id": "76cedd8b",
   "metadata": {
    "papermill": {
     "duration": 0.02415,
     "end_time": "2023-06-24T01:34:59.690167",
     "exception": false,
     "start_time": "2023-06-24T01:34:59.666017",
     "status": "completed"
    },
    "tags": []
   },
   "source": [
    "## Ground Testing"
   ]
  },
  {
   "cell_type": "code",
   "execution_count": 71,
   "id": "a28525e3",
   "metadata": {
    "execution": {
     "iopub.execute_input": "2023-06-24T01:34:59.741318Z",
     "iopub.status.busy": "2023-06-24T01:34:59.740499Z",
     "iopub.status.idle": "2023-06-24T01:34:59.745983Z",
     "shell.execute_reply": "2023-06-24T01:34:59.745166Z"
    },
    "papermill": {
     "duration": 0.033703,
     "end_time": "2023-06-24T01:34:59.748254",
     "exception": false,
     "start_time": "2023-06-24T01:34:59.714551",
     "status": "completed"
    },
    "tags": []
   },
   "outputs": [],
   "source": [
    "# function to make predictions\n",
    "def predict(text):\n",
    "    pred = model.predict([nlp(text)])\n",
    "    return enc.inverse_transform(pred)[0]"
   ]
  },
  {
   "cell_type": "code",
   "execution_count": 72,
   "id": "5e913764",
   "metadata": {
    "execution": {
     "iopub.execute_input": "2023-06-24T01:34:59.799228Z",
     "iopub.status.busy": "2023-06-24T01:34:59.798441Z",
     "iopub.status.idle": "2023-06-24T01:35:00.069199Z",
     "shell.execute_reply": "2023-06-24T01:35:00.067920Z"
    },
    "papermill": {
     "duration": 0.29926,
     "end_time": "2023-06-24T01:35:00.071818",
     "exception": false,
     "start_time": "2023-06-24T01:34:59.772558",
     "status": "completed"
    },
    "tags": []
   },
   "outputs": [
    {
     "data": {
      "text/plain": [
       "('joy', 'joy', 'shame')"
      ]
     },
     "execution_count": 72,
     "metadata": {},
     "output_type": "execute_result"
    }
   ],
   "source": [
    "predict(\"i will succeed one day!\"), predict('will i survive?'), predict('such a lying bastard you are!')"
   ]
  }
 ],
 "metadata": {
  "kernelspec": {
   "display_name": "Python 3",
   "language": "python",
   "name": "python3"
  },
  "language_info": {
   "codemirror_mode": {
    "name": "ipython",
    "version": 3
   },
   "file_extension": ".py",
   "mimetype": "text/x-python",
   "name": "python",
   "nbconvert_exporter": "python",
   "pygments_lexer": "ipython3",
   "version": "3.11.5"
  },
  "papermill": {
   "default_parameters": {},
   "duration": 3684.80923,
   "end_time": "2023-06-24T01:35:02.640700",
   "environment_variables": {},
   "exception": null,
   "input_path": "__notebook__.ipynb",
   "output_path": "__notebook__.ipynb",
   "parameters": {},
   "start_time": "2023-06-24T00:33:37.831470",
   "version": "2.4.0"
  },
  "widgets": {
   "application/vnd.jupyter.widget-state+json": {
    "state": {
     "128a8d48766542d4b61908fab3ac98d4": {
      "model_module": "@jupyter-widgets/base",
      "model_module_version": "1.2.0",
      "model_name": "LayoutModel",
      "state": {
       "_model_module": "@jupyter-widgets/base",
       "_model_module_version": "1.2.0",
       "_model_name": "LayoutModel",
       "_view_count": null,
       "_view_module": "@jupyter-widgets/base",
       "_view_module_version": "1.2.0",
       "_view_name": "LayoutView",
       "align_content": null,
       "align_items": null,
       "align_self": null,
       "border": null,
       "bottom": null,
       "display": null,
       "flex": null,
       "flex_flow": null,
       "grid_area": null,
       "grid_auto_columns": null,
       "grid_auto_flow": null,
       "grid_auto_rows": null,
       "grid_column": null,
       "grid_gap": null,
       "grid_row": null,
       "grid_template_areas": null,
       "grid_template_columns": null,
       "grid_template_rows": null,
       "height": null,
       "justify_content": null,
       "justify_items": null,
       "left": null,
       "margin": null,
       "max_height": null,
       "max_width": null,
       "min_height": null,
       "min_width": null,
       "object_fit": null,
       "object_position": null,
       "order": null,
       "overflow": null,
       "overflow_x": null,
       "overflow_y": null,
       "padding": null,
       "right": null,
       "top": null,
       "visibility": null,
       "width": null
      }
     },
     "314775a4e5de408a80c50fd1bf9d5d34": {
      "model_module": "@jupyter-widgets/controls",
      "model_module_version": "1.5.0",
      "model_name": "FloatProgressModel",
      "state": {
       "_dom_classes": [],
       "_model_module": "@jupyter-widgets/controls",
       "_model_module_version": "1.5.0",
       "_model_name": "FloatProgressModel",
       "_view_count": null,
       "_view_module": "@jupyter-widgets/controls",
       "_view_module_version": "1.5.0",
       "_view_name": "ProgressView",
       "bar_style": "success",
       "description": "",
       "description_tooltip": null,
       "layout": "IPY_MODEL_8eaf1c523f624f3ba0663d49fdc43dbd",
       "max": 5459,
       "min": 0,
       "orientation": "horizontal",
       "style": "IPY_MODEL_8e93bf92b130404cb021bf8d4e7963c5",
       "value": 5459
      }
     },
     "37bdb22b54e347d7b5a06beb99c8eb79": {
      "model_module": "@jupyter-widgets/base",
      "model_module_version": "1.2.0",
      "model_name": "LayoutModel",
      "state": {
       "_model_module": "@jupyter-widgets/base",
       "_model_module_version": "1.2.0",
       "_model_name": "LayoutModel",
       "_view_count": null,
       "_view_module": "@jupyter-widgets/base",
       "_view_module_version": "1.2.0",
       "_view_name": "LayoutView",
       "align_content": null,
       "align_items": null,
       "align_self": null,
       "border": null,
       "bottom": null,
       "display": null,
       "flex": null,
       "flex_flow": null,
       "grid_area": null,
       "grid_auto_columns": null,
       "grid_auto_flow": null,
       "grid_auto_rows": null,
       "grid_column": null,
       "grid_gap": null,
       "grid_row": null,
       "grid_template_areas": null,
       "grid_template_columns": null,
       "grid_template_rows": null,
       "height": null,
       "justify_content": null,
       "justify_items": null,
       "left": null,
       "margin": null,
       "max_height": null,
       "max_width": null,
       "min_height": null,
       "min_width": null,
       "object_fit": null,
       "object_position": null,
       "order": null,
       "overflow": null,
       "overflow_x": null,
       "overflow_y": null,
       "padding": null,
       "right": null,
       "top": null,
       "visibility": null,
       "width": null
      }
     },
     "3b26f0239afe4a59b42eba061950e6ef": {
      "model_module": "@jupyter-widgets/controls",
      "model_module_version": "1.5.0",
      "model_name": "HTMLModel",
      "state": {
       "_dom_classes": [],
       "_model_module": "@jupyter-widgets/controls",
       "_model_module_version": "1.5.0",
       "_model_name": "HTMLModel",
       "_view_count": null,
       "_view_module": "@jupyter-widgets/controls",
       "_view_module_version": "1.5.0",
       "_view_name": "HTMLView",
       "description": "",
       "description_tooltip": null,
       "layout": "IPY_MODEL_ea4856efe3ba47428b4bd666457b29d6",
       "placeholder": "​",
       "style": "IPY_MODEL_63d63ac0324c4f76814bd33fee89ce47",
       "value": " 5459/5459 [11:18&lt;00:00,  8.22it/s]"
      }
     },
     "425600c50f924e7d8c6da7bf0c226547": {
      "model_module": "@jupyter-widgets/controls",
      "model_module_version": "1.5.0",
      "model_name": "HBoxModel",
      "state": {
       "_dom_classes": [],
       "_model_module": "@jupyter-widgets/controls",
       "_model_module_version": "1.5.0",
       "_model_name": "HBoxModel",
       "_view_count": null,
       "_view_module": "@jupyter-widgets/controls",
       "_view_module_version": "1.5.0",
       "_view_name": "HBoxView",
       "box_style": "",
       "children": [
        "IPY_MODEL_7d855a920c1a4c8f86f980c71da3abe0",
        "IPY_MODEL_314775a4e5de408a80c50fd1bf9d5d34",
        "IPY_MODEL_3b26f0239afe4a59b42eba061950e6ef"
       ],
       "layout": "IPY_MODEL_128a8d48766542d4b61908fab3ac98d4"
      }
     },
     "44b7646f05bf4a07923532f6be79428f": {
      "model_module": "@jupyter-widgets/controls",
      "model_module_version": "1.5.0",
      "model_name": "DescriptionStyleModel",
      "state": {
       "_model_module": "@jupyter-widgets/controls",
       "_model_module_version": "1.5.0",
       "_model_name": "DescriptionStyleModel",
       "_view_count": null,
       "_view_module": "@jupyter-widgets/base",
       "_view_module_version": "1.2.0",
       "_view_name": "StyleView",
       "description_width": ""
      }
     },
     "564a1541987d43aca592c79a80f4bcaa": {
      "model_module": "@jupyter-widgets/controls",
      "model_module_version": "1.5.0",
      "model_name": "ProgressStyleModel",
      "state": {
       "_model_module": "@jupyter-widgets/controls",
       "_model_module_version": "1.5.0",
       "_model_name": "ProgressStyleModel",
       "_view_count": null,
       "_view_module": "@jupyter-widgets/base",
       "_view_module_version": "1.2.0",
       "_view_name": "StyleView",
       "bar_color": null,
       "description_width": ""
      }
     },
     "63d63ac0324c4f76814bd33fee89ce47": {
      "model_module": "@jupyter-widgets/controls",
      "model_module_version": "1.5.0",
      "model_name": "DescriptionStyleModel",
      "state": {
       "_model_module": "@jupyter-widgets/controls",
       "_model_module_version": "1.5.0",
       "_model_name": "DescriptionStyleModel",
       "_view_count": null,
       "_view_module": "@jupyter-widgets/base",
       "_view_module_version": "1.2.0",
       "_view_name": "StyleView",
       "description_width": ""
      }
     },
     "7d855a920c1a4c8f86f980c71da3abe0": {
      "model_module": "@jupyter-widgets/controls",
      "model_module_version": "1.5.0",
      "model_name": "HTMLModel",
      "state": {
       "_dom_classes": [],
       "_model_module": "@jupyter-widgets/controls",
       "_model_module_version": "1.5.0",
       "_model_name": "HTMLModel",
       "_view_count": null,
       "_view_module": "@jupyter-widgets/controls",
       "_view_module_version": "1.5.0",
       "_view_name": "HTMLView",
       "description": "",
       "description_tooltip": null,
       "layout": "IPY_MODEL_cbd067de96ac421ab83806cd0c568dee",
       "placeholder": "​",
       "style": "IPY_MODEL_8b5252ccfb3a47ae91b604c53cea8359",
       "value": "Progress: 100%"
      }
     },
     "8269be5871884987a2198c8e0561e849": {
      "model_module": "@jupyter-widgets/controls",
      "model_module_version": "1.5.0",
      "model_name": "HTMLModel",
      "state": {
       "_dom_classes": [],
       "_model_module": "@jupyter-widgets/controls",
       "_model_module_version": "1.5.0",
       "_model_name": "HTMLModel",
       "_view_count": null,
       "_view_module": "@jupyter-widgets/controls",
       "_view_module_version": "1.5.0",
       "_view_name": "HTMLView",
       "description": "",
       "description_tooltip": null,
       "layout": "IPY_MODEL_37bdb22b54e347d7b5a06beb99c8eb79",
       "placeholder": "​",
       "style": "IPY_MODEL_e5dff2a559d146f3b0f2beb63393462f",
       "value": " 21835/21835 [45:37&lt;00:00, 10.66it/s]"
      }
     },
     "8b5252ccfb3a47ae91b604c53cea8359": {
      "model_module": "@jupyter-widgets/controls",
      "model_module_version": "1.5.0",
      "model_name": "DescriptionStyleModel",
      "state": {
       "_model_module": "@jupyter-widgets/controls",
       "_model_module_version": "1.5.0",
       "_model_name": "DescriptionStyleModel",
       "_view_count": null,
       "_view_module": "@jupyter-widgets/base",
       "_view_module_version": "1.2.0",
       "_view_name": "StyleView",
       "description_width": ""
      }
     },
     "8e93bf92b130404cb021bf8d4e7963c5": {
      "model_module": "@jupyter-widgets/controls",
      "model_module_version": "1.5.0",
      "model_name": "ProgressStyleModel",
      "state": {
       "_model_module": "@jupyter-widgets/controls",
       "_model_module_version": "1.5.0",
       "_model_name": "ProgressStyleModel",
       "_view_count": null,
       "_view_module": "@jupyter-widgets/base",
       "_view_module_version": "1.2.0",
       "_view_name": "StyleView",
       "bar_color": null,
       "description_width": ""
      }
     },
     "8eaf1c523f624f3ba0663d49fdc43dbd": {
      "model_module": "@jupyter-widgets/base",
      "model_module_version": "1.2.0",
      "model_name": "LayoutModel",
      "state": {
       "_model_module": "@jupyter-widgets/base",
       "_model_module_version": "1.2.0",
       "_model_name": "LayoutModel",
       "_view_count": null,
       "_view_module": "@jupyter-widgets/base",
       "_view_module_version": "1.2.0",
       "_view_name": "LayoutView",
       "align_content": null,
       "align_items": null,
       "align_self": null,
       "border": null,
       "bottom": null,
       "display": null,
       "flex": null,
       "flex_flow": null,
       "grid_area": null,
       "grid_auto_columns": null,
       "grid_auto_flow": null,
       "grid_auto_rows": null,
       "grid_column": null,
       "grid_gap": null,
       "grid_row": null,
       "grid_template_areas": null,
       "grid_template_columns": null,
       "grid_template_rows": null,
       "height": null,
       "justify_content": null,
       "justify_items": null,
       "left": null,
       "margin": null,
       "max_height": null,
       "max_width": null,
       "min_height": null,
       "min_width": null,
       "object_fit": null,
       "object_position": null,
       "order": null,
       "overflow": null,
       "overflow_x": null,
       "overflow_y": null,
       "padding": null,
       "right": null,
       "top": null,
       "visibility": null,
       "width": null
      }
     },
     "94587f94a2294cc5abae07ae887c3481": {
      "model_module": "@jupyter-widgets/controls",
      "model_module_version": "1.5.0",
      "model_name": "FloatProgressModel",
      "state": {
       "_dom_classes": [],
       "_model_module": "@jupyter-widgets/controls",
       "_model_module_version": "1.5.0",
       "_model_name": "FloatProgressModel",
       "_view_count": null,
       "_view_module": "@jupyter-widgets/controls",
       "_view_module_version": "1.5.0",
       "_view_name": "ProgressView",
       "bar_style": "success",
       "description": "",
       "description_tooltip": null,
       "layout": "IPY_MODEL_9f0a0c7e68f04560a196c40c719a72ec",
       "max": 21835,
       "min": 0,
       "orientation": "horizontal",
       "style": "IPY_MODEL_564a1541987d43aca592c79a80f4bcaa",
       "value": 21835
      }
     },
     "9b275a34ba954753918e3cefafc1774c": {
      "model_module": "@jupyter-widgets/base",
      "model_module_version": "1.2.0",
      "model_name": "LayoutModel",
      "state": {
       "_model_module": "@jupyter-widgets/base",
       "_model_module_version": "1.2.0",
       "_model_name": "LayoutModel",
       "_view_count": null,
       "_view_module": "@jupyter-widgets/base",
       "_view_module_version": "1.2.0",
       "_view_name": "LayoutView",
       "align_content": null,
       "align_items": null,
       "align_self": null,
       "border": null,
       "bottom": null,
       "display": null,
       "flex": null,
       "flex_flow": null,
       "grid_area": null,
       "grid_auto_columns": null,
       "grid_auto_flow": null,
       "grid_auto_rows": null,
       "grid_column": null,
       "grid_gap": null,
       "grid_row": null,
       "grid_template_areas": null,
       "grid_template_columns": null,
       "grid_template_rows": null,
       "height": null,
       "justify_content": null,
       "justify_items": null,
       "left": null,
       "margin": null,
       "max_height": null,
       "max_width": null,
       "min_height": null,
       "min_width": null,
       "object_fit": null,
       "object_position": null,
       "order": null,
       "overflow": null,
       "overflow_x": null,
       "overflow_y": null,
       "padding": null,
       "right": null,
       "top": null,
       "visibility": null,
       "width": null
      }
     },
     "9f0a0c7e68f04560a196c40c719a72ec": {
      "model_module": "@jupyter-widgets/base",
      "model_module_version": "1.2.0",
      "model_name": "LayoutModel",
      "state": {
       "_model_module": "@jupyter-widgets/base",
       "_model_module_version": "1.2.0",
       "_model_name": "LayoutModel",
       "_view_count": null,
       "_view_module": "@jupyter-widgets/base",
       "_view_module_version": "1.2.0",
       "_view_name": "LayoutView",
       "align_content": null,
       "align_items": null,
       "align_self": null,
       "border": null,
       "bottom": null,
       "display": null,
       "flex": null,
       "flex_flow": null,
       "grid_area": null,
       "grid_auto_columns": null,
       "grid_auto_flow": null,
       "grid_auto_rows": null,
       "grid_column": null,
       "grid_gap": null,
       "grid_row": null,
       "grid_template_areas": null,
       "grid_template_columns": null,
       "grid_template_rows": null,
       "height": null,
       "justify_content": null,
       "justify_items": null,
       "left": null,
       "margin": null,
       "max_height": null,
       "max_width": null,
       "min_height": null,
       "min_width": null,
       "object_fit": null,
       "object_position": null,
       "order": null,
       "overflow": null,
       "overflow_x": null,
       "overflow_y": null,
       "padding": null,
       "right": null,
       "top": null,
       "visibility": null,
       "width": null
      }
     },
     "cbd067de96ac421ab83806cd0c568dee": {
      "model_module": "@jupyter-widgets/base",
      "model_module_version": "1.2.0",
      "model_name": "LayoutModel",
      "state": {
       "_model_module": "@jupyter-widgets/base",
       "_model_module_version": "1.2.0",
       "_model_name": "LayoutModel",
       "_view_count": null,
       "_view_module": "@jupyter-widgets/base",
       "_view_module_version": "1.2.0",
       "_view_name": "LayoutView",
       "align_content": null,
       "align_items": null,
       "align_self": null,
       "border": null,
       "bottom": null,
       "display": null,
       "flex": null,
       "flex_flow": null,
       "grid_area": null,
       "grid_auto_columns": null,
       "grid_auto_flow": null,
       "grid_auto_rows": null,
       "grid_column": null,
       "grid_gap": null,
       "grid_row": null,
       "grid_template_areas": null,
       "grid_template_columns": null,
       "grid_template_rows": null,
       "height": null,
       "justify_content": null,
       "justify_items": null,
       "left": null,
       "margin": null,
       "max_height": null,
       "max_width": null,
       "min_height": null,
       "min_width": null,
       "object_fit": null,
       "object_position": null,
       "order": null,
       "overflow": null,
       "overflow_x": null,
       "overflow_y": null,
       "padding": null,
       "right": null,
       "top": null,
       "visibility": null,
       "width": null
      }
     },
     "df1e91cd962a49b1999dd2977e1c7071": {
      "model_module": "@jupyter-widgets/controls",
      "model_module_version": "1.5.0",
      "model_name": "HTMLModel",
      "state": {
       "_dom_classes": [],
       "_model_module": "@jupyter-widgets/controls",
       "_model_module_version": "1.5.0",
       "_model_name": "HTMLModel",
       "_view_count": null,
       "_view_module": "@jupyter-widgets/controls",
       "_view_module_version": "1.5.0",
       "_view_name": "HTMLView",
       "description": "",
       "description_tooltip": null,
       "layout": "IPY_MODEL_fa88be6966da405bb173bdedb35e654d",
       "placeholder": "​",
       "style": "IPY_MODEL_44b7646f05bf4a07923532f6be79428f",
       "value": "Progress: 100%"
      }
     },
     "e5dff2a559d146f3b0f2beb63393462f": {
      "model_module": "@jupyter-widgets/controls",
      "model_module_version": "1.5.0",
      "model_name": "DescriptionStyleModel",
      "state": {
       "_model_module": "@jupyter-widgets/controls",
       "_model_module_version": "1.5.0",
       "_model_name": "DescriptionStyleModel",
       "_view_count": null,
       "_view_module": "@jupyter-widgets/base",
       "_view_module_version": "1.2.0",
       "_view_name": "StyleView",
       "description_width": ""
      }
     },
     "ea4856efe3ba47428b4bd666457b29d6": {
      "model_module": "@jupyter-widgets/base",
      "model_module_version": "1.2.0",
      "model_name": "LayoutModel",
      "state": {
       "_model_module": "@jupyter-widgets/base",
       "_model_module_version": "1.2.0",
       "_model_name": "LayoutModel",
       "_view_count": null,
       "_view_module": "@jupyter-widgets/base",
       "_view_module_version": "1.2.0",
       "_view_name": "LayoutView",
       "align_content": null,
       "align_items": null,
       "align_self": null,
       "border": null,
       "bottom": null,
       "display": null,
       "flex": null,
       "flex_flow": null,
       "grid_area": null,
       "grid_auto_columns": null,
       "grid_auto_flow": null,
       "grid_auto_rows": null,
       "grid_column": null,
       "grid_gap": null,
       "grid_row": null,
       "grid_template_areas": null,
       "grid_template_columns": null,
       "grid_template_rows": null,
       "height": null,
       "justify_content": null,
       "justify_items": null,
       "left": null,
       "margin": null,
       "max_height": null,
       "max_width": null,
       "min_height": null,
       "min_width": null,
       "object_fit": null,
       "object_position": null,
       "order": null,
       "overflow": null,
       "overflow_x": null,
       "overflow_y": null,
       "padding": null,
       "right": null,
       "top": null,
       "visibility": null,
       "width": null
      }
     },
     "eca365825428465f8d1bad78f0d56882": {
      "model_module": "@jupyter-widgets/controls",
      "model_module_version": "1.5.0",
      "model_name": "HBoxModel",
      "state": {
       "_dom_classes": [],
       "_model_module": "@jupyter-widgets/controls",
       "_model_module_version": "1.5.0",
       "_model_name": "HBoxModel",
       "_view_count": null,
       "_view_module": "@jupyter-widgets/controls",
       "_view_module_version": "1.5.0",
       "_view_name": "HBoxView",
       "box_style": "",
       "children": [
        "IPY_MODEL_df1e91cd962a49b1999dd2977e1c7071",
        "IPY_MODEL_94587f94a2294cc5abae07ae887c3481",
        "IPY_MODEL_8269be5871884987a2198c8e0561e849"
       ],
       "layout": "IPY_MODEL_9b275a34ba954753918e3cefafc1774c"
      }
     },
     "fa88be6966da405bb173bdedb35e654d": {
      "model_module": "@jupyter-widgets/base",
      "model_module_version": "1.2.0",
      "model_name": "LayoutModel",
      "state": {
       "_model_module": "@jupyter-widgets/base",
       "_model_module_version": "1.2.0",
       "_model_name": "LayoutModel",
       "_view_count": null,
       "_view_module": "@jupyter-widgets/base",
       "_view_module_version": "1.2.0",
       "_view_name": "LayoutView",
       "align_content": null,
       "align_items": null,
       "align_self": null,
       "border": null,
       "bottom": null,
       "display": null,
       "flex": null,
       "flex_flow": null,
       "grid_area": null,
       "grid_auto_columns": null,
       "grid_auto_flow": null,
       "grid_auto_rows": null,
       "grid_column": null,
       "grid_gap": null,
       "grid_row": null,
       "grid_template_areas": null,
       "grid_template_columns": null,
       "grid_template_rows": null,
       "height": null,
       "justify_content": null,
       "justify_items": null,
       "left": null,
       "margin": null,
       "max_height": null,
       "max_width": null,
       "min_height": null,
       "min_width": null,
       "object_fit": null,
       "object_position": null,
       "order": null,
       "overflow": null,
       "overflow_x": null,
       "overflow_y": null,
       "padding": null,
       "right": null,
       "top": null,
       "visibility": null,
       "width": null
      }
     }
    },
    "version_major": 2,
    "version_minor": 0
   }
  }
 },
 "nbformat": 4,
 "nbformat_minor": 5
}
