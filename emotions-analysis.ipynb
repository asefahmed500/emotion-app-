{
 "cells": [
  {
   "cell_type": "code",
   "execution_count": 1,
   "id": "43b659dc",
   "metadata": {
    "execution": {
     "iopub.execute_input": "2024-05-14T10:33:24.088749Z",
     "iopub.status.busy": "2024-05-14T10:33:24.088352Z",
     "iopub.status.idle": "2024-05-14T10:33:37.841567Z",
     "shell.execute_reply": "2024-05-14T10:33:37.840454Z"
    },
    "papermill": {
     "duration": 13.762666,
     "end_time": "2024-05-14T10:33:37.844223",
     "exception": false,
     "start_time": "2024-05-14T10:33:24.081557",
     "status": "completed"
    },
    "tags": []
   },
   "outputs": [
    {
     "name": "stdout",
     "output_type": "stream",
     "text": [
      "Collecting neattext\r\n",
      "  Downloading neattext-0.1.3-py3-none-any.whl.metadata (12 kB)\r\n",
      "Downloading neattext-0.1.3-py3-none-any.whl (114 kB)\r\n",
      "\u001b[2K   \u001b[90m━━━━━━━━━━━━━━━━━━━━━━━━━━━━━━━━━━━━━━━━\u001b[0m \u001b[32m114.7/114.7 kB\u001b[0m \u001b[31m4.0 MB/s\u001b[0m eta \u001b[36m0:00:00\u001b[0m\r\n",
      "\u001b[?25hInstalling collected packages: neattext\r\n",
      "Successfully installed neattext-0.1.3\r\n"
     ]
    }
   ],
   "source": [
    "! pip install neattext"
   ]
  },
  {
   "cell_type": "code",
   "execution_count": 2,
   "id": "809d7541",
   "metadata": {
    "execution": {
     "iopub.execute_input": "2024-05-14T10:33:37.855543Z",
     "iopub.status.busy": "2024-05-14T10:33:37.855128Z",
     "iopub.status.idle": "2024-05-14T10:33:40.815430Z",
     "shell.execute_reply": "2024-05-14T10:33:40.814221Z"
    },
    "papermill": {
     "duration": 2.969387,
     "end_time": "2024-05-14T10:33:40.818495",
     "exception": false,
     "start_time": "2024-05-14T10:33:37.849108",
     "status": "completed"
    },
    "tags": []
   },
   "outputs": [],
   "source": [
    "import numpy as np\n",
    "import pandas as pd\n",
    "import matplotlib.pyplot as plt\n",
    "import seaborn as sns\n",
    "import neattext.functions as nfx\n",
    "from sklearn.ensemble import RandomForestClassifier\n",
    "from sklearn.feature_extraction.text import TfidfVectorizer\n",
    "from sklearn.pipeline import make_pipeline\n",
    "from sklearn.metrics import classification_report, accuracy_score,confusion_matrix"
   ]
  },
  {
   "cell_type": "code",
   "execution_count": 3,
   "id": "b096d9fd",
   "metadata": {
    "execution": {
     "iopub.execute_input": "2024-05-14T10:33:40.829844Z",
     "iopub.status.busy": "2024-05-14T10:33:40.829321Z",
     "iopub.status.idle": "2024-05-14T10:33:40.937786Z",
     "shell.execute_reply": "2024-05-14T10:33:40.936648Z"
    },
    "papermill": {
     "duration": 0.117484,
     "end_time": "2024-05-14T10:33:40.940543",
     "exception": false,
     "start_time": "2024-05-14T10:33:40.823059",
     "status": "completed"
    },
    "tags": []
   },
   "outputs": [],
   "source": [
    "test_df = pd.read_csv('/kaggle/input/emotions-dataset-for-nlp/test.txt', sep=';', header=None, names=['Text', 'Emotion'])\n",
    "train_df = pd.read_csv('/kaggle/input/emotions-dataset-for-nlp/train.txt', sep=';', header=None, names=['Text', 'Emotion'])"
   ]
  },
  {
   "cell_type": "code",
   "execution_count": 4,
   "id": "37cef41a",
   "metadata": {
    "execution": {
     "iopub.execute_input": "2024-05-14T10:33:40.953126Z",
     "iopub.status.busy": "2024-05-14T10:33:40.950997Z",
     "iopub.status.idle": "2024-05-14T10:33:40.974293Z",
     "shell.execute_reply": "2024-05-14T10:33:40.973006Z"
    },
    "papermill": {
     "duration": 0.031434,
     "end_time": "2024-05-14T10:33:40.976655",
     "exception": false,
     "start_time": "2024-05-14T10:33:40.945221",
     "status": "completed"
    },
    "tags": []
   },
   "outputs": [
    {
     "data": {
      "text/html": [
       "<div>\n",
       "<style scoped>\n",
       "    .dataframe tbody tr th:only-of-type {\n",
       "        vertical-align: middle;\n",
       "    }\n",
       "\n",
       "    .dataframe tbody tr th {\n",
       "        vertical-align: top;\n",
       "    }\n",
       "\n",
       "    .dataframe thead th {\n",
       "        text-align: right;\n",
       "    }\n",
       "</style>\n",
       "<table border=\"1\" class=\"dataframe\">\n",
       "  <thead>\n",
       "    <tr style=\"text-align: right;\">\n",
       "      <th></th>\n",
       "      <th>Text</th>\n",
       "      <th>Emotion</th>\n",
       "    </tr>\n",
       "  </thead>\n",
       "  <tbody>\n",
       "    <tr>\n",
       "      <th>15995</th>\n",
       "      <td>i just had a very brief time in the beanbag an...</td>\n",
       "      <td>sadness</td>\n",
       "    </tr>\n",
       "    <tr>\n",
       "      <th>15996</th>\n",
       "      <td>i am now turning and i feel pathetic that i am...</td>\n",
       "      <td>sadness</td>\n",
       "    </tr>\n",
       "    <tr>\n",
       "      <th>15997</th>\n",
       "      <td>i feel strong and good overall</td>\n",
       "      <td>joy</td>\n",
       "    </tr>\n",
       "    <tr>\n",
       "      <th>15998</th>\n",
       "      <td>i feel like this was such a rude comment and i...</td>\n",
       "      <td>anger</td>\n",
       "    </tr>\n",
       "    <tr>\n",
       "      <th>15999</th>\n",
       "      <td>i know a lot but i feel so stupid because i ca...</td>\n",
       "      <td>sadness</td>\n",
       "    </tr>\n",
       "  </tbody>\n",
       "</table>\n",
       "</div>"
      ],
      "text/plain": [
       "                                                    Text  Emotion\n",
       "15995  i just had a very brief time in the beanbag an...  sadness\n",
       "15996  i am now turning and i feel pathetic that i am...  sadness\n",
       "15997                     i feel strong and good overall      joy\n",
       "15998  i feel like this was such a rude comment and i...    anger\n",
       "15999  i know a lot but i feel so stupid because i ca...  sadness"
      ]
     },
     "execution_count": 4,
     "metadata": {},
     "output_type": "execute_result"
    }
   ],
   "source": [
    "train_df.tail()"
   ]
  },
  {
   "cell_type": "code",
   "execution_count": 5,
   "id": "71774e63",
   "metadata": {
    "execution": {
     "iopub.execute_input": "2024-05-14T10:33:40.988231Z",
     "iopub.status.busy": "2024-05-14T10:33:40.987337Z",
     "iopub.status.idle": "2024-05-14T10:33:41.229942Z",
     "shell.execute_reply": "2024-05-14T10:33:41.228672Z"
    },
    "papermill": {
     "duration": 0.252339,
     "end_time": "2024-05-14T10:33:41.233669",
     "exception": false,
     "start_time": "2024-05-14T10:33:40.981330",
     "status": "completed"
    },
    "tags": []
   },
   "outputs": [
    {
     "data": {
      "image/png": "[encoded data removed]",
      "text/plain": [
       "<Figure size 800x600 with 1 Axes>"
      ]
     },
     "metadata": {},
     "output_type": "display_data"
    }
   ],
   "source": [
    "emotion_counts = train_df['Emotion'].value_counts()\n",
    "\n",
    "# Plotting\n",
    "plt.figure(figsize=(8, 6))\n",
    "plt.pie(emotion_counts, labels=emotion_counts.index, autopct='%1.1f%%', startangle=140)\n",
    "plt.title('Emotion Distribution')\n",
    "plt.axis('equal')  # Equal aspect ratio ensures that pie is drawn as a circle.\n",
    "plt.show()"
   ]
  },
  {
   "cell_type": "code",
   "execution_count": 6,
   "id": "d681b6de",
   "metadata": {
    "execution": {
     "iopub.execute_input": "2024-05-14T10:33:41.252885Z",
     "iopub.status.busy": "2024-05-14T10:33:41.252482Z",
     "iopub.status.idle": "2024-05-14T10:33:41.390290Z",
     "shell.execute_reply": "2024-05-14T10:33:41.388965Z"
    },
    "papermill": {
     "duration": 0.150442,
     "end_time": "2024-05-14T10:33:41.392967",
     "exception": false,
     "start_time": "2024-05-14T10:33:41.242525",
     "status": "completed"
    },
    "tags": []
   },
   "outputs": [],
   "source": [
    "# Remove the user handles\n",
    "train_df['Text'] = train_df['Text'].apply(nfx.remove_userhandles)\n",
    "# Remove the stopwords\n",
    "train_df['Text'] = train_df['Text'].apply(nfx.remove_stopwords)\n",
    "# Remove the user handles\n",
    "test_df['Text'] = test_df['Text'].apply(nfx.remove_userhandles)\n",
    "# Remove the stopwords\n",
    "test_df['Text'] = test_df['Text'].apply(nfx.remove_stopwords)"
   ]
  },
  {
   "cell_type": "code",
   "execution_count": 7,
   "id": "50bc4aeb",
   "metadata": {
    "execution": {
     "iopub.execute_input": "2024-05-14T10:33:41.406023Z",
     "iopub.status.busy": "2024-05-14T10:33:41.405578Z",
     "iopub.status.idle": "2024-05-14T10:33:41.410617Z",
     "shell.execute_reply": "2024-05-14T10:33:41.409356Z"
    },
    "papermill": {
     "duration": 0.014174,
     "end_time": "2024-05-14T10:33:41.412924",
     "exception": false,
     "start_time": "2024-05-14T10:33:41.398750",
     "status": "completed"
    },
    "tags": []
   },
   "outputs": [],
   "source": [
    "x = train_df['Text']\n",
    "y = train_df['Emotion']"
   ]
  },
  {
   "cell_type": "code",
   "execution_count": 8,
   "id": "2cc577b2",
   "metadata": {
    "execution": {
     "iopub.execute_input": "2024-05-14T10:33:41.425715Z",
     "iopub.status.busy": "2024-05-14T10:33:41.425333Z",
     "iopub.status.idle": "2024-05-14T10:34:08.414146Z",
     "shell.execute_reply": "2024-05-14T10:34:08.413088Z"
    },
    "papermill": {
     "duration": 26.998355,
     "end_time": "2024-05-14T10:34:08.416768",
     "exception": false,
     "start_time": "2024-05-14T10:33:41.418413",
     "status": "completed"
    },
    "tags": []
   },
   "outputs": [
    {
     "data": {
      "text/html": [
       "<style>#sk-container-id-1 {color: black;background-color: white;}#sk-container-id-1 pre{padding: 0;}#sk-container-id-1 div.sk-toggleable {background-color: white;}#sk-container-id-1 label.sk-toggleable__label {cursor: pointer;display: block;width: 100%;margin-bottom: 0;padding: 0.3em;box-sizing: border-box;text-align: center;}#sk-container-id-1 label.sk-toggleable__label-arrow:before {content: \"▸\";float: left;margin-right: 0.25em;color: #696969;}#sk-container-id-1 label.sk-toggleable__label-arrow:hover:before {color: black;}#sk-container-id-1 div.sk-estimator:hover label.sk-toggleable__label-arrow:before {color: black;}#sk-container-id-1 div.sk-toggleable__content {max-height: 0;max-width: 0;overflow: hidden;text-align: left;background-color: #f0f8ff;}#sk-container-id-1 div.sk-toggleable__content pre {margin: 0.2em;color: black;border-radius: 0.25em;background-color: #f0f8ff;}#sk-container-id-1 input.sk-toggleable__control:checked~div.sk-toggleable__content {max-height: 200px;max-width: 100%;overflow: auto;}#sk-container-id-1 input.sk-toggleable__control:checked~label.sk-toggleable__label-arrow:before {content: \"▾\";}#sk-container-id-1 div.sk-estimator input.sk-toggleable__control:checked~label.sk-toggleable__label {background-color: #d4ebff;}#sk-container-id-1 div.sk-label input.sk-toggleable__control:checked~label.sk-toggleable__label {background-color: #d4ebff;}#sk-container-id-1 input.sk-hidden--visually {border: 0;clip: rect(1px 1px 1px 1px);clip: rect(1px, 1px, 1px, 1px);height: 1px;margin: -1px;overflow: hidden;padding: 0;position: absolute;width: 1px;}#sk-container-id-1 div.sk-estimator {font-family: monospace;background-color: #f0f8ff;border: 1px dotted black;border-radius: 0.25em;box-sizing: border-box;margin-bottom: 0.5em;}#sk-container-id-1 div.sk-estimator:hover {background-color: #d4ebff;}#sk-container-id-1 div.sk-parallel-item::after {content: \"\";width: 100%;border-bottom: 1px solid gray;flex-grow: 1;}#sk-container-id-1 div.sk-label:hover label.sk-toggleable__label {background-color: #d4ebff;}#sk-container-id-1 div.sk-serial::before {content: \"\";position: absolute;border-left: 1px solid gray;box-sizing: border-box;top: 0;bottom: 0;left: 50%;z-index: 0;}#sk-container-id-1 div.sk-serial {display: flex;flex-direction: column;align-items: center;background-color: white;padding-right: 0.2em;padding-left: 0.2em;position: relative;}#sk-container-id-1 div.sk-item {position: relative;z-index: 1;}#sk-container-id-1 div.sk-parallel {display: flex;align-items: stretch;justify-content: center;background-color: white;position: relative;}#sk-container-id-1 div.sk-item::before, #sk-container-id-1 div.sk-parallel-item::before {content: \"\";position: absolute;border-left: 1px solid gray;box-sizing: border-box;top: 0;bottom: 0;left: 50%;z-index: -1;}#sk-container-id-1 div.sk-parallel-item {display: flex;flex-direction: column;z-index: 1;position: relative;background-color: white;}#sk-container-id-1 div.sk-parallel-item:first-child::after {align-self: flex-end;width: 50%;}#sk-container-id-1 div.sk-parallel-item:last-child::after {align-self: flex-start;width: 50%;}#sk-container-id-1 div.sk-parallel-item:only-child::after {width: 0;}#sk-container-id-1 div.sk-dashed-wrapped {border: 1px dashed gray;margin: 0 0.4em 0.5em 0.4em;box-sizing: border-box;padding-bottom: 0.4em;background-color: white;}#sk-container-id-1 div.sk-label label {font-family: monospace;font-weight: bold;display: inline-block;line-height: 1.2em;}#sk-container-id-1 div.sk-label-container {text-align: center;}#sk-container-id-1 div.sk-container {/* jupyter's `normalize.less` sets `[hidden] { display: none; }` but bootstrap.min.css set `[hidden] { display: none !important; }` so we also need the `!important` here to be able to override the default hidden behavior on the sphinx rendered scikit-learn.org. See: https://github.com/scikit-learn/scikit-learn/issues/21755 */display: inline-block !important;position: relative;}#sk-container-id-1 div.sk-text-repr-fallback {display: none;}</style><div id=\"sk-container-id-1\" class=\"sk-top-container\"><div class=\"sk-text-repr-fallback\"><pre>Pipeline(steps=[(&#x27;tfidfvectorizer&#x27;, TfidfVectorizer()),\n",
       "                (&#x27;randomforestclassifier&#x27;,\n",
       "                 RandomForestClassifier(random_state=42))])</pre><b>In a Jupyter environment, please rerun this cell to show the HTML representation or trust the notebook. <br />On GitHub, the HTML representation is unable to render, please try loading this page with nbviewer.org.</b></div><div class=\"sk-container\" hidden><div class=\"sk-item sk-dashed-wrapped\"><div class=\"sk-label-container\"><div class=\"sk-label sk-toggleable\"><input class=\"sk-toggleable__control sk-hidden--visually\" id=\"sk-estimator-id-1\" type=\"checkbox\" ><label for=\"sk-estimator-id-1\" class=\"sk-toggleable__label sk-toggleable__label-arrow\">Pipeline</label><div class=\"sk-toggleable__content\"><pre>Pipeline(steps=[(&#x27;tfidfvectorizer&#x27;, TfidfVectorizer()),\n",
       "                (&#x27;randomforestclassifier&#x27;,\n",
       "                 RandomForestClassifier(random_state=42))])</pre></div></div></div><div class=\"sk-serial\"><div class=\"sk-item\"><div class=\"sk-estimator sk-toggleable\"><input class=\"sk-toggleable__control sk-hidden--visually\" id=\"sk-estimator-id-2\" type=\"checkbox\" ><label for=\"sk-estimator-id-2\" class=\"sk-toggleable__label sk-toggleable__label-arrow\">TfidfVectorizer</label><div class=\"sk-toggleable__content\"><pre>TfidfVectorizer()</pre></div></div></div><div class=\"sk-item\"><div class=\"sk-estimator sk-toggleable\"><input class=\"sk-toggleable__control sk-hidden--visually\" id=\"sk-estimator-id-3\" type=\"checkbox\" ><label for=\"sk-estimator-id-3\" class=\"sk-toggleable__label sk-toggleable__label-arrow\">RandomForestClassifier</label><div class=\"sk-toggleable__content\"><pre>RandomForestClassifier(random_state=42)</pre></div></div></div></div></div></div></div>"
      ],
      "text/plain": [
       "Pipeline(steps=[('tfidfvectorizer', TfidfVectorizer()),\n",
       "                ('randomforestclassifier',\n",
       "                 RandomForestClassifier(random_state=42))])"
      ]
     },
     "execution_count": 8,
     "metadata": {},
     "output_type": "execute_result"
    }
   ],
   "source": [
    "rf_classifier = make_pipeline(TfidfVectorizer(), RandomForestClassifier(random_state=42))\n",
    "rf_classifier.fit(x, y)"
   ]
  },
  {
   "cell_type": "code",
   "execution_count": 9,
   "id": "f69fe6e2",
   "metadata": {
    "execution": {
     "iopub.execute_input": "2024-05-14T10:34:08.430408Z",
     "iopub.status.busy": "2024-05-14T10:34:08.429282Z",
     "iopub.status.idle": "2024-05-14T10:34:08.659292Z",
     "shell.execute_reply": "2024-05-14T10:34:08.657900Z"
    },
    "papermill": {
     "duration": 0.23935,
     "end_time": "2024-05-14T10:34:08.661950",
     "exception": false,
     "start_time": "2024-05-14T10:34:08.422600",
     "status": "completed"
    },
    "tags": []
   },
   "outputs": [
    {
     "name": "stdout",
     "output_type": "stream",
     "text": [
      "Random Forest Classifier Accuracy: 0.887\n"
     ]
    }
   ],
   "source": [
    "rf_predictions = rf_classifier.predict(test_df['Text'])\n",
    "rf_accuracy = accuracy_score(test_df['Emotion'], rf_predictions)\n",
    "print(\"Random Forest Classifier Accuracy:\", rf_accuracy)"
   ]
  },
  {
   "cell_type": "code",
   "execution_count": 10,
   "id": "28c7d037",
   "metadata": {
    "execution": {
     "iopub.execute_input": "2024-05-14T10:34:08.675070Z",
     "iopub.status.busy": "2024-05-14T10:34:08.674698Z",
     "iopub.status.idle": "2024-05-14T10:34:09.172923Z",
     "shell.execute_reply": "2024-05-14T10:34:09.171532Z"
    },
    "papermill": {
     "duration": 0.507787,
     "end_time": "2024-05-14T10:34:09.175359",
     "exception": false,
     "start_time": "2024-05-14T10:34:08.667572",
     "status": "completed"
    },
    "tags": []
   },
   "outputs": [
    {
     "name": "stdout",
     "output_type": "stream",
     "text": [
      "Classification Report:\n",
      "              precision    recall  f1-score   support\n",
      "\n",
      "       anger       0.90      0.89      0.90       275\n",
      "        fear       0.87      0.87      0.87       224\n",
      "         joy       0.89      0.93      0.91       695\n",
      "        love       0.78      0.71      0.74       159\n",
      "     sadness       0.94      0.92      0.93       581\n",
      "    surprise       0.68      0.59      0.63        66\n",
      "\n",
      "    accuracy                           0.89      2000\n",
      "   macro avg       0.84      0.82      0.83      2000\n",
      "weighted avg       0.89      0.89      0.89      2000\n",
      "\n"
     ]
    },
    {
     "data": {
      "image/png": "[encoded data removed]",
      "text/plain": [
       "<Figure size 800x600 with 2 Axes>"
      ]
     },
     "metadata": {},
     "output_type": "display_data"
    }
   ],
   "source": [
    "# Confusion Matrix\n",
    "conf_matrix = confusion_matrix(test_df['Emotion'], rf_predictions)\n",
    "\n",
    "# Classification Report\n",
    "classification_rep = classification_report(test_df['Emotion'], rf_predictions)\n",
    "\n",
    "# Plotting the Confusion Matrix\n",
    "plt.figure(figsize=(8, 6))\n",
    "sns.heatmap(conf_matrix, annot=True, fmt='d', cmap='Blues', xticklabels=train_df['Emotion'].unique() ,yticklabels=train_df['Emotion'].unique())\n",
    "plt.xlabel('Predicted')\n",
    "\n",
    "# Displaying Classification Report\n",
    "print(\"Classification Report:\")\n",
    "print(classification_rep)"
   ]
  },
  {
   "cell_type": "code",
   "execution_count": 11,
   "id": "09c35c31",
   "metadata": {
    "execution": {
     "iopub.execute_input": "2024-05-14T10:34:09.189897Z",
     "iopub.status.busy": "2024-05-14T10:34:09.189478Z",
     "iopub.status.idle": "2024-05-14T10:34:09.195476Z",
     "shell.execute_reply": "2024-05-14T10:34:09.194431Z"
    },
    "papermill": {
     "duration": 0.015837,
     "end_time": "2024-05-14T10:34:09.197666",
     "exception": false,
     "start_time": "2024-05-14T10:34:09.181829",
     "status": "completed"
    },
    "tags": []
   },
   "outputs": [],
   "source": [
    "def predict_emotion(text, model):\n",
    "    # Preprocess the text\n",
    "    processed_text = nfx.remove_userhandles(text)\n",
    "    processed_text = nfx.remove_stopwords(processed_text)\n",
    "    \n",
    "    # Make prediction\n",
    "    prediction = rf_classifier.predict([processed_text])\n",
    "    \n",
    "    # Return the predicted emotion\n",
    "    return prediction[0]"
   ]
  },
  {
   "cell_type": "code",
   "execution_count": 12,
   "id": "f3810646",
   "metadata": {
    "execution": {
     "iopub.execute_input": "2024-05-14T10:34:09.211892Z",
     "iopub.status.busy": "2024-05-14T10:34:09.211524Z",
     "iopub.status.idle": "2024-05-14T10:34:09.227114Z",
     "shell.execute_reply": "2024-05-14T10:34:09.226033Z"
    },
    "papermill": {
     "duration": 0.025331,
     "end_time": "2024-05-14T10:34:09.229328",
     "exception": false,
     "start_time": "2024-05-14T10:34:09.203997",
     "status": "completed"
    },
    "tags": []
   },
   "outputs": [
    {
     "name": "stdout",
     "output_type": "stream",
     "text": [
      "Predicted emotion: fear\n"
     ]
    }
   ],
   "source": [
    "# Example usage:\n",
    "text = \"I heard footsteps behind me as I walked home alone at night\"\n",
    "predicted_emotion = predict_emotion(text, rf_classifier)\n",
    "print(\"Predicted emotion:\", predicted_emotion)"
   ]
  },
  {
   "cell_type": "code",
   "execution_count": 13,
   "id": "f9a914c8",
   "metadata": {
    "execution": {
     "iopub.execute_input": "2024-05-14T10:34:09.245660Z",
     "iopub.status.busy": "2024-05-14T10:34:09.244587Z",
     "iopub.status.idle": "2024-05-14T10:34:09.259588Z",
     "shell.execute_reply": "2024-05-14T10:34:09.257945Z"
    },
    "papermill": {
     "duration": 0.025424,
     "end_time": "2024-05-14T10:34:09.262400",
     "exception": false,
     "start_time": "2024-05-14T10:34:09.236976",
     "status": "completed"
    },
    "tags": []
   },
   "outputs": [
    {
     "name": "stdout",
     "output_type": "stream",
     "text": [
      "Predicted emotion: sadness\n"
     ]
    }
   ],
   "source": [
    "# Example usage:\n",
    "text = \"I cried when I remembered the past. It made me feel very sad\"\n",
    "predicted_emotion = predict_emotion(text, rf_classifier)\n",
    "print(\"Predicted emotion:\", predicted_emotion)"
   ]
  },
  {
   "cell_type": "code",
   "execution_count": 14,
   "id": "bb0e79d2",
   "metadata": {
    "execution": {
     "iopub.execute_input": "2024-05-14T10:34:09.277522Z",
     "iopub.status.busy": "2024-05-14T10:34:09.277119Z",
     "iopub.status.idle": "2024-05-14T10:34:09.292063Z",
     "shell.execute_reply": "2024-05-14T10:34:09.290699Z"
    },
    "papermill": {
     "duration": 0.025253,
     "end_time": "2024-05-14T10:34:09.294320",
     "exception": false,
     "start_time": "2024-05-14T10:34:09.269067",
     "status": "completed"
    },
    "tags": []
   },
   "outputs": [
    {
     "name": "stdout",
     "output_type": "stream",
     "text": [
      "Predicted emotion: anger\n"
     ]
    }
   ],
   "source": [
    "# Example usage:\n",
    "text = \"I got really mad when my brother broke my ps4.\"\n",
    "predicted_emotion = predict_emotion(text, rf_classifier)\n",
    "print(\"Predicted emotion:\", predicted_emotion)"
   ]
  }
 ],
 "metadata": {
  "kaggle": {
   "accelerator": "none",
   "dataSources": [
    {
     "datasetId": 605165,
     "sourceId": 1085454,
     "sourceType": "datasetVersion"
    }
   ],
   "dockerImageVersionId": 30698,
   "isGpuEnabled": false,
   "isInternetEnabled": true,
   "language": "python",
   "sourceType": "notebook"
  },
  "kernelspec": {
   "display_name": "Python 3",
   "language": "python",
   "name": "python3"
  },
  "language_info": {
   "codemirror_mode": {
    "name": "ipython",
    "version": 3
   },
   "file_extension": ".py",
   "mimetype": "text/x-python",
   "name": "python",
   "nbconvert_exporter": "python",
   "pygments_lexer": "ipython3",
   "version": "3.10.13"
  },
  "papermill": {
   "default_parameters": {},
   "duration": 48.662173,
   "end_time": "2024-05-14T10:34:09.922193",
   "environment_variables": {},
   "exception": null,
   "input_path": "__notebook__.ipynb",
   "output_path": "__notebook__.ipynb",
   "parameters": {},
   "start_time": "2024-05-14T10:33:21.260020",
   "version": "2.5.0"
  }
 },
 "nbformat": 4,
 "nbformat_minor": 5
}
